{
 "cells": [
  {
   "cell_type": "markdown",
   "metadata": {},
   "source": [
    "# Pattern recognition CW2"
   ]
  },
  {
   "cell_type": "code",
   "execution_count": 8,
   "metadata": {},
   "outputs": [
    {
     "data": {
      "text/plain": [
       "{'__globals__': [],\n",
       " '__header__': b'MATLAB 5.0 MAT-file, Platform: GLNXA64, Created on: Mon Mar  6 20:42:54 2017',\n",
       " '__version__': '1.0',\n",
       " 'camId': array([[1],\n",
       "        [1],\n",
       "        [1],\n",
       "        ...,\n",
       "        [2],\n",
       "        [2],\n",
       "        [2]], dtype=uint8),\n",
       " 'filelist': array([[array(['1_001_1_01.png'], dtype='<U14')],\n",
       "        [array(['1_001_1_02.png'], dtype='<U14')],\n",
       "        [array(['1_001_1_03.png'], dtype='<U14')],\n",
       "        ...,\n",
       "        [array(['5_049_2_08.png'], dtype='<U14')],\n",
       "        [array(['5_049_2_09.png'], dtype='<U14')],\n",
       "        [array(['5_049_2_10.png'], dtype='<U14')]], dtype=object),\n",
       " 'gallery_idx': array([[   21],\n",
       "        [   23],\n",
       "        [   24],\n",
       "        ...,\n",
       "        [14062],\n",
       "        [14064],\n",
       "        [14065]], dtype=uint16),\n",
       " 'labels': array([[   1],\n",
       "        [   1],\n",
       "        [   1],\n",
       "        ...,\n",
       "        [1467],\n",
       "        [1467],\n",
       "        [1467]], dtype=uint16),\n",
       " 'query_idx': array([[   22],\n",
       "        [   27],\n",
       "        [   49],\n",
       "        ...,\n",
       "        [14043],\n",
       "        [14059],\n",
       "        [14063]], dtype=uint16),\n",
       " 'train_idx': array([[    1],\n",
       "        [    2],\n",
       "        [    3],\n",
       "        ...,\n",
       "        [14094],\n",
       "        [14095],\n",
       "        [14096]], dtype=uint16)}"
      ]
     },
     "execution_count": 8,
     "metadata": {},
     "output_type": "execute_result"
    }
   ],
   "source": [
    "from scipy.io import loadmat\n",
    "train_idxs = loadmat('cuhk03_new_protocol_config_labeled.mat')\n",
    "train_idxs\n",
    "\n",
    "#name format: x_label_camId_index.png"
   ]
  },
  {
   "cell_type": "code",
   "execution_count": 9,
   "metadata": {},
   "outputs": [],
   "source": [
    "import json\n",
    "with open('feature_data.json', 'r') as f:\n",
    "    features = json.load(f)initial commit "
   ]
  },
  {
   "cell_type": "code",
   "execution_count": 13,
   "metadata": {},
   "outputs": [],
   "source": [
    "import numpy as np\n",
    "features_np = np.array(features)"
   ]
  },
  {
   "cell_type": "code",
   "execution_count": 16,
   "metadata": {},
   "outputs": [
    {
     "data": {
      "text/plain": [
       "(14096, 2048)"
      ]
     },
     "execution_count": 16,
     "metadata": {},
     "output_type": "execute_result"
    }
   ],
   "source": [
    "features_np.shape"
   ]
  },
  {
   "cell_type": "code",
   "execution_count": 178,
   "metadata": {},
   "outputs": [
    {
     "data": {
      "text/plain": [
       "array([[array(['1_001_1_01.png'], dtype='<U14')],\n",
       "       [array(['1_001_1_02.png'], dtype='<U14')],\n",
       "       [array(['1_001_1_03.png'], dtype='<U14')],\n",
       "       ...,\n",
       "       [array(['5_049_2_08.png'], dtype='<U14')],\n",
       "       [array(['5_049_2_09.png'], dtype='<U14')],\n",
       "       [array(['5_049_2_10.png'], dtype='<U14')]], dtype=object)"
      ]
     },
     "execution_count": 178,
     "metadata": {},
     "output_type": "execute_result"
    }
   ],
   "source": [
    "train_idxs['filelist']"
   ]
  },
  {
   "cell_type": "code",
   "execution_count": 70,
   "metadata": {},
   "outputs": [
    {
     "data": {
      "text/plain": [
       "(14096, 1)"
      ]
     },
     "execution_count": 70,
     "metadata": {},
     "output_type": "execute_result"
    }
   ],
   "source": [
    "train_idxs['labels'].shape"
   ]
  },
  {
   "cell_type": "raw",
   "metadata": {},
   "source": []
  },
  {
   "cell_type": "code",
   "execution_count": 79,
   "metadata": {},
   "outputs": [
    {
     "data": {
      "text/plain": [
       "array([[   21],\n",
       "       [   23],\n",
       "       [   24],\n",
       "       ...,\n",
       "       [14062],\n",
       "       [14064],\n",
       "       [14065]], dtype=uint16)"
      ]
     },
     "execution_count": 79,
     "metadata": {},
     "output_type": "execute_result"
    }
   ],
   "source": [
    "train_idxs['gallery_idx']"
   ]
  },
  {
   "cell_type": "code",
   "execution_count": 38,
   "metadata": {},
   "outputs": [
    {
     "data": {
      "text/plain": [
       "(7368, 1)"
      ]
     },
     "execution_count": 38,
     "metadata": {},
     "output_type": "execute_result"
    }
   ],
   "source": [
    "train_idxs['train_idx'].shape"
   ]
  },
  {
   "cell_type": "code",
   "execution_count": 39,
   "metadata": {},
   "outputs": [
    {
     "data": {
      "text/plain": [
       "12696"
      ]
     },
     "execution_count": 39,
     "metadata": {},
     "output_type": "execute_result"
    }
   ],
   "source": [
    "7368+5328"
   ]
  },
  {
   "cell_type": "code",
   "execution_count": 40,
   "metadata": {},
   "outputs": [
    {
     "data": {
      "text/plain": [
       "(1400, 1)"
      ]
     },
     "execution_count": 40,
     "metadata": {},
     "output_type": "execute_result"
    }
   ],
   "source": [
    "train_idxs['query_idx'].shape"
   ]
  },
  {
   "cell_type": "code",
   "execution_count": 41,
   "metadata": {},
   "outputs": [
    {
     "data": {
      "text/plain": [
       "14096"
      ]
     },
     "execution_count": 41,
     "metadata": {},
     "output_type": "execute_result"
    }
   ],
   "source": [
    "12696+1400"
   ]
  },
  {
   "cell_type": "code",
   "execution_count": 44,
   "metadata": {},
   "outputs": [
    {
     "data": {
      "text/plain": [
       "array([0.13791114, 1.12505555, 0.05404324, ..., 0.10747871, 0.04081609,\n",
       "       0.68009406])"
      ]
     },
     "execution_count": 44,
     "metadata": {},
     "output_type": "execute_result"
    }
   ],
   "source": [
    "features_np[0]"
   ]
  },
  {
   "cell_type": "code",
   "execution_count": 69,
   "metadata": {},
   "outputs": [
    {
     "data": {
      "text/plain": [
       "array([[0.98361254, 0.33195475, 0.26549727, ..., 0.02350602, 0.08491972,\n",
       "        0.00514889],\n",
       "       [1.30696166, 0.22219124, 0.62375975, ..., 0.02954952, 0.37348923,\n",
       "        0.05303315],\n",
       "       [0.29322624, 0.55588913, 0.06961903, ..., 0.15892459, 0.21527511,\n",
       "        0.09551907],\n",
       "       ...,\n",
       "       [0.7593497 , 0.24537075, 2.19513273, ..., 0.47061139, 1.35971546,\n",
       "        0.46198806],\n",
       "       [0.48667279, 0.49618778, 0.30824399, ..., 0.04450084, 1.28799629,\n",
       "        0.37683338],\n",
       "       [0.05719076, 0.60635394, 0.58300596, ..., 0.40994745, 1.37061644,\n",
       "        0.55975795]])"
      ]
     },
     "execution_count": 69,
     "metadata": {},
     "output_type": "execute_result"
    }
   ],
   "source": [
    "features_np[train_idxs['query_idx'].flatten()]"
   ]
  },
  {
   "cell_type": "code",
   "execution_count": 176,
   "metadata": {},
   "outputs": [
    {
     "data": {
      "text/plain": [
       "22"
      ]
     },
     "execution_count": 176,
     "metadata": {},
     "output_type": "execute_result"
    }
   ],
   "source": [
    "train_idxs['query_idx'][0][0]"
   ]
  },
  {
   "cell_type": "code",
   "execution_count": 174,
   "metadata": {},
   "outputs": [],
   "source": [
    "img_name = train_idxs['filelist'][22][0][0]\n",
    "[dc, label, camId, index] = img_name.split('_')\n",
    "index = index[:-4]"
   ]
  },
  {
   "cell_type": "code",
   "execution_count": 175,
   "metadata": {},
   "outputs": [
    {
     "data": {
      "text/plain": [
       "array([[9.40880954e-01, 6.12001598e-01, 1.96013823e-01, ...,\n",
       "        3.83011550e-02, 5.46127856e-02, 1.00457324e-02],\n",
       "       [8.26966822e-01, 3.95451933e-01, 1.34190559e-01, ...,\n",
       "        2.50734761e-02, 6.06398210e-02, 3.50554474e-02],\n",
       "       [7.68881679e-01, 2.55869567e-01, 6.01241291e-01, ...,\n",
       "        1.81159094e-01, 4.31653410e-01, 9.93161947e-02],\n",
       "       ...,\n",
       "       [4.79696468e-02, 4.94295180e-01, 6.11936390e-01, ...,\n",
       "        7.43048429e-01, 1.20724857e+00, 6.64190292e-01],\n",
       "       [7.24511072e-02, 5.16567469e-01, 5.90824187e-01, ...,\n",
       "        6.04884207e-01, 1.05610693e+00, 7.29397178e-01],\n",
       "       [9.02916938e-02, 9.08039138e-03, 1.26653552e+00, ...,\n",
       "        2.80692708e-04, 4.21197325e-01, 8.77461396e-03]])"
      ]
     },
     "execution_count": 175,
     "metadata": {},
     "output_type": "execute_result"
    }
   ],
   "source": [
    "gallery_images"
   ]
  },
  {
   "cell_type": "code",
   "execution_count": 154,
   "metadata": {},
   "outputs": [
    {
     "data": {
      "text/plain": [
       "array([   22,    27,    49, ..., 14043, 14059, 14063], dtype=uint16)"
      ]
     },
     "execution_count": 154,
     "metadata": {},
     "output_type": "execute_result"
    }
   ],
   "source": [
    "train_idxs['query_idx'].flatten()"
   ]
  },
  {
   "cell_type": "code",
   "execution_count": 307,
   "metadata": {},
   "outputs": [],
   "source": [
    "from sklearn.neighbors import KNeighborsClassifier\n",
    "\n",
    "def clean_gallery_imgs(gallery_images, gallery_names, label, camId):\n",
    "    new_gallery_images = []\n",
    "    new_gallery_labels = []\n",
    "    for img, name in zip(gallery_images, gallery_names):\n",
    "        [dc, label_g, camId_g, index] = str(name[0][0]).split('_')\n",
    "        if [int(label_g), int(camId_g)] != [int(label), int(camId)]:\n",
    "            new_gallery_images.append(img)\n",
    "            new_gallery_labels.append(int(label_g))\n",
    "    return new_gallery_images, new_gallery_labels\n",
    "\n",
    "def delete_images(gallery_images, gallery_labels, query_image, query_index):\n",
    "    \n",
    "    gallery_names = train_idxs['filelist'][train_idxs['gallery_idx'].flatten()]\n",
    "    query_name = str(train_idxs['filelist'][query_index][0][0])\n",
    "    [dc, label, camId, index] = query_name.split('_')\n",
    "    \n",
    "    new_gallery_images, new_gallery_labels = clean_gallery_imgs(gallery_images, gallery_names, label, camId)\n",
    "    return new_gallery_images, new_gallery_labels"
   ]
  },
  {
   "cell_type": "code",
   "execution_count": 308,
   "metadata": {},
   "outputs": [],
   "source": [
    "from sklearn.neighbors import NearestNeighbors\n",
    "\n",
    "def NNClassification_deletions(query_image, gallery_images, gallery_labels, query_index, k):\n",
    "    neigh = NearestNeighbors(n_neighbors=k)\n",
    "    #preparing the training data\n",
    "    new_gallery_images, new_gallery_labels = delete_images(gallery_images, gallery_labels, query_image, query_index)\n",
    "    neigh.fit(new_gallery_images)\n",
    "    #neigh.kneighbors(query_image, 10)\n",
    "    dist, ind = neigh.kneighbors(query_image, k)\n",
    "    return dist, ind, new_gallery_labels #neigh.score(query_image, query_label), neigh.predict(query_image), "
   ]
  },
  {
   "cell_type": "code",
   "execution_count": null,
   "metadata": {
    "scrolled": true
   },
   "outputs": [
    {
     "name": "stdout",
     "output_type": "stream",
     "text": [
      "0 0.0\n",
      "10 14.10928225517273\n",
      "20 28.296353816986084\n",
      "30 43.33415365219116\n",
      "40 57.95706057548523\n",
      "50 72.17009711265564\n",
      "60 85.83188056945801\n",
      "70 100.03488278388977\n",
      "80 114.2319278717041\n",
      "90 128.32824516296387\n",
      "0.47\n",
      "100 142.51335191726685\n",
      "110 156.66947746276855\n",
      "120 170.457617521286\n",
      "130 184.15300345420837\n",
      "140 198.1495885848999\n",
      "150 210.87071180343628\n",
      "160 223.93978071212769\n",
      "170 237.50451850891113\n",
      "180 250.86313223838806\n",
      "190 264.27328181266785\n",
      "200 277.8240556716919\n",
      "210 290.8911352157593\n",
      "220 305.46218156814575\n",
      "230 318.407098531723\n",
      "240 332.3318729400635\n",
      "250 345.96742057800293\n",
      "260 360.1475124359131\n",
      "270 374.3595199584961\n",
      "280 388.64337062835693\n",
      "290 402.8114595413208\n",
      "300 416.74919962882996\n",
      "310 428.4609320163727\n",
      "320 442.11140513420105\n",
      "330 454.83339619636536\n",
      "340 469.5904974937439\n",
      "350 483.99100065231323\n",
      "360 498.4832603931427\n",
      "370 512.1008543968201\n",
      "380 526.2151234149933\n",
      "390 541.677784204483\n",
      "400 555.038102388382\n",
      "410 568.281491279602\n",
      "420 582.3778057098389\n",
      "430 596.4412109851837\n",
      "440 609.1935794353485\n",
      "450 623.0824484825134\n",
      "460 636.036859035492\n",
      "470 649.5886311531067\n",
      "480 662.1524140834808\n",
      "490 676.3574390411377\n",
      "500 689.6508991718292\n",
      "510 707.5241186618805\n",
      "520 730.9185786247253\n",
      "530 756.3685421943665\n",
      "540 783.330404996872\n",
      "550 809.9322905540466\n",
      "560 827.2579753398895\n",
      "570 843.5913081169128\n",
      "580 858.9153423309326\n",
      "590 877.2014589309692\n",
      "600 893.0830006599426\n",
      "610 915.2876405715942\n",
      "620 932.4318084716797\n",
      "630 949.2498507499695\n",
      "640 965.922277212143\n",
      "650 982.5338704586029\n",
      "660 998.9320373535156\n",
      "670 1016.2198152542114\n",
      "680 1032.6339364051819\n",
      "690 1049.1418051719666\n",
      "700 1066.5971400737762\n",
      "710 1083.4091954231262\n",
      "720 1100.4915282726288\n",
      "730 1117.100131034851\n",
      "740 1133.5321998596191\n",
      "750 1150.3741760253906\n",
      "760 1167.746732711792\n",
      "770 1195.34894323349\n",
      "780 1222.1123986244202\n",
      "790 1238.2283124923706\n",
      "800 1255.8831226825714\n",
      "810 1273.5349283218384\n",
      "820 1299.0985853672028\n",
      "830 1327.4288501739502\n",
      "840 1345.2422297000885\n",
      "850 1364.4518747329712\n",
      "860 1380.8939192295074\n",
      "870 1414.4268038272858\n",
      "880 1433.4234330654144\n",
      "890 1452.7048859596252\n",
      "900 1471.2802276611328\n"
     ]
    }
   ],
   "source": [
    "import time\n",
    "gallery_labels = train_idxs['labels'][train_idxs['gallery_idx'].flatten()]\n",
    "query_labels = train_idxs['labels'][train_idxs['query_idx'].flatten()]\n",
    "\n",
    "query_images = features_np[train_idxs['query_idx'].flatten()]\n",
    "gallery_images = features_np[train_idxs['gallery_idx'].flatten()]\n",
    "\n",
    "\n",
    "def score_rank(query_label, rank_k, new_gallery_labels):\n",
    "    rank_k_labels = np.array(new_gallery_labels)[rank_k.flatten()]\n",
    "    return (query_label[0] in rank_k_labels)\n",
    "list_of_truths = []\n",
    "start = time.time()\n",
    "for index, query_index in enumerate(train_idxs['query_idx'].flatten().tolist()):\n",
    "    if index == 100:\n",
    "        acc = sum(list_of_truths)/len(list_of_truths)\n",
    "        print(acc)\n",
    "    \n",
    "    if (index % 10 == 0):\n",
    "        print(index, time.time() - start)\n",
    "        \n",
    "    #print(query_images[index], query_image)\n",
    "    dist, rank_k, new_gallery_labels = NNClassification_deletions(query_images[index].reshape(1, 2048), gallery_images, gallery_labels, query_index, 1)\n",
    "    score = score_rank(query_labels[index], rank_k, new_gallery_labels)\n",
    "    #print(score)\n",
    "    list_of_truths.append(score)\n",
    "    \n",
    "acc = sum(list_of_truths)/len(list_of_truths)\n",
    "print(acc)"
   ]
  },
  {
   "cell_type": "code",
   "execution_count": null,
   "metadata": {},
   "outputs": [],
   "source": [
    "rank_k[0][0]"
   ]
  },
  {
   "cell_type": "code",
   "execution_count": null,
   "metadata": {},
   "outputs": [],
   "source": [
    "train_idxs['query_idx'].flatten().tolist()"
   ]
  },
  {
   "cell_type": "code",
   "execution_count": null,
   "metadata": {},
   "outputs": [],
   "source": [
    "gallery_labels = train_idxs['labels'][train_idxs['gallery_idx'].flatten()]\n",
    "query_labels = train_idxs['labels'][train_idxs['query_idx'].flatten()]\n",
    "\n",
    "x = NNClassification(train_idxs['query_idx'], train_idxs['gallery_idx'], gallery_labels, query_labels, 10)\n",
    "print(x)"
   ]
  },
  {
   "cell_type": "code",
   "execution_count": 75,
   "metadata": {
    "collapsed": true
   },
   "outputs": [
    {
     "data": {
      "text/plain": [
       "(5328, 1)"
      ]
     },
     "execution_count": 75,
     "metadata": {},
     "output_type": "execute_result"
    }
   ],
   "source": [
    "gallery_labels = train_idxs['labels'][train_idxs['gallery_idx'].flatten()]\n",
    "gallery_labels.shape"
   ]
  },
  {
   "cell_type": "code",
   "execution_count": null,
   "metadata": {},
   "outputs": [],
   "source": []
  }
 ],
 "metadata": {
  "kernelspec": {
   "display_name": "Python 3",
   "language": "python",
   "name": "python3"
  },
  "language_info": {
   "codemirror_mode": {
    "name": "ipython",
    "version": 3
   },
   "file_extension": ".py",
   "mimetype": "text/x-python",
   "name": "python",
   "nbconvert_exporter": "python",
   "pygments_lexer": "ipython3",
   "version": "3.6.4"
  }
 },
 "nbformat": 4,
 "nbformat_minor": 2
}
