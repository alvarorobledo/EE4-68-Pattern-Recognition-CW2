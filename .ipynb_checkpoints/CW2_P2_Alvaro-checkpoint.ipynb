{
 "cells": [
  {
   "cell_type": "markdown",
   "metadata": {},
   "source": [
    "# Pattern recognition CW2"
   ]
  },
  {
   "cell_type": "code",
   "execution_count": 2,
   "metadata": {},
   "outputs": [],
   "source": [
    "from scipy.io import loadmat\n",
    "import numpy as np\n",
    "from sklearn.neighbors import KNeighborsClassifier\n",
    "from sklearn.neighbors import NearestNeighbors\n",
    "import time\n",
    "from sklearn.cluster import KMeans\n",
    "import matplotlib.pyplot as plt\n",
    "import metric_learn\n",
    "from numpy import linalg as calc_eigen\n",
    "from sklearn.preprocessing import normalize as normalize_vectors\n",
    "import pandas as pd\n",
    "import pylab as pl\n",
    "from sklearn import datasets\n",
    "from sklearn.decomposition import PCA\n",
    "from sklearn import preprocessing\n",
    "from scipy.spatial.distance import cdist\n",
    "from scipy.spatial.distance import pdist\n",
    "from scipy.optimize import minimize"
   ]
  },
  {
   "cell_type": "markdown",
   "metadata": {},
   "source": [
    "### Import file with 6 main components:"
   ]
  },
  {
   "cell_type": "code",
   "execution_count": 3,
   "metadata": {},
   "outputs": [],
   "source": [
    "\"\"\" \n",
    "camId : which camera was used to get the shot (1 or 2)\n",
    "filelist: names of the images (with format x_label_camId_index.png)\n",
    "labels: class of the image (which person's image is it?)\n",
    "query_idx: indexes of test set\n",
    "gallery_idx: indexes of test set used for kNN \n",
    "train_idx: indexes of training and validation set\n",
    "\"\"\"   \n",
    "train_idxs = loadmat('cuhk03_new_protocol_config_labeled.mat')"
   ]
  },
  {
   "cell_type": "markdown",
   "metadata": {},
   "source": [
    "### Import file with the feature vectors of all images:"
   ]
  },
  {
   "cell_type": "code",
   "execution_count": 4,
   "metadata": {},
   "outputs": [
    {
     "data": {
      "text/plain": [
       "(14096, 2048)"
      ]
     },
     "execution_count": 4,
     "metadata": {},
     "output_type": "execute_result"
    }
   ],
   "source": [
    "import json\n",
    "with open('PR_data/feature_data.json', 'r') as f:\n",
    "    features = json.load(f)\n",
    "features_np = np.array(features) #list of features converted to an array \n",
    "features_np.shape"
   ]
  },
  {
   "cell_type": "code",
   "execution_count": 5,
   "metadata": {},
   "outputs": [],
   "source": [
    "gallery_indices = train_idxs['gallery_idx'].flatten() - 1\n",
    "gallery_images = features_np[gallery_indices]\n",
    "gallery_labels = train_idxs['labels'][gallery_indices]\n",
    "\n",
    "query_indices = train_idxs['query_idx'].flatten() - 1\n",
    "query_images = features_np[query_indices]\n",
    "query_labels = train_idxs['labels'][query_indices]\n",
    "\n",
    "training_indices = train_idxs['train_idx'].flatten() - 1\n",
    "training_images = features_np[training_indices]\n",
    "training_labels = train_idxs['labels'][training_indices]"
   ]
  },
  {
   "cell_type": "code",
   "execution_count": 6,
   "metadata": {},
   "outputs": [],
   "source": [
    "def calculateAverageFace(X):\n",
    "    \"\"\"\n",
    "    takes the training data set as input \n",
    "    and returns the average face\n",
    "    \"\"\"\n",
    "    average_face= np.mean(X, axis=0)\n",
    "    #plt.figure()\n",
    "    #plt.title(\"Average Face\")\n",
    "    #plt.imshow(np.resize(average_face, (46, 56)).T, cmap='gray')\n",
    "    return average_face\n",
    "\n",
    "def normalize(X, AvgFace):\n",
    "    \"\"\"\n",
    "    takes the training data set and average face as input \n",
    "    and returns the normalized training data set\n",
    "\n",
    "    \"\"\"\n",
    "    Q = np.empty((len(X[:,0]),len(X[0, :])))\n",
    "    for index, face in enumerate(X):\n",
    "        Q[index] = face - AvgFace\n",
    "    return Q.T\n",
    "\n",
    "def calculateCovarianceMatrix(Q):\n",
    "    return np.matmul(Q,Q.T)/len(Q[0,:])\n",
    "\n",
    "def calculateLowDimCovarianceMatrix(Q):\n",
    "    return np.matmul(Q.T,Q)/len(Q[0,:])\n",
    "\n",
    "def calculateEigenValuesAndVectors(S):\n",
    "    \"\"\"\n",
    "    Takes covariance matrix as input\n",
    "    and returns eigen values and vectors\n",
    "    \"\"\"\n",
    "    v, w =  calc_eigen.eigh(S)\n",
    "    #eigen_vectors[:,i] --> eigen_values[i]\n",
    "    #eigen vector corresponding to eigen value\n",
    "\n",
    "    #flips left to right... ascending to descending\n",
    "    v = np.flip(v, axis=0) #turn ascending into descending\n",
    "    w = np.flip(w, axis=1) #turn ascending into descending\n",
    "    return v, w\n",
    "\n",
    "def calculateWeights(Q, U):\n",
    "    \"\"\"\n",
    "    takes input the normalized input and the eigen space\n",
    "    outputs the weights of the normalized input\n",
    "    \"\"\"\n",
    "    N = len(Q[0,:])\n",
    "    W = np.empty((N,len(U[0, :])))\n",
    "    for index, image in enumerate(Q.T):\n",
    "        W[index] = np.matmul(image, U)\n",
    "    return W\n",
    "\n",
    "def calculateWeights2(Q, U):\n",
    "    \"\"\"\n",
    "    alternative method to calculate weights\n",
    "    \"\"\"\n",
    "    N = len(Q[0,:])\n",
    "    W2 = np.empty((N,len(U[0, :])))\n",
    "    W2 = np.matmul(Q.T, top_eigen_vectors)\n",
    "    return W2\n",
    "\n",
    "def printImage(face, title, saved_file):\n",
    "    \"\"\"\n",
    "    takes input as the face you want to print, the title of the image, and the location of the file\n",
    "    you would like to save the image to. \n",
    "    \"\"\"\n",
    "    plt.figure()\n",
    "    plt.imshow(np.resize(face, (46, 56)).T, cmap='gray')\n",
    "    plt.title(title)\n",
    "    plt.axis('off')\n",
    "    plt.savefig(saved_file, bbox_inches='tight')   # save the figure to file\n",
    "    plt.show()\n",
    "    plt.close() \n",
    "    \n",
    "def plotEigenValueGraph(v, points):\n",
    "    \"\"\"\n",
    "    plots eigen values against inrementing the number of eigen values used\n",
    "    in descending order\n",
    "    \"\"\"\n",
    "    y_points = [value for value in v[:points]]\n",
    "    x_points = [i for i in range(points)]\n",
    "    plt.xlabel('Number of Eigen Values')\n",
    "    plt.ylabel('Eigen Values')\n",
    "    plt.title('Plot of Eigen Values in Descending Order')\n",
    "    plt.plot(x_points, y_points)\n",
    "    plt.savefig('eigenvalues.png', bbox_inches='tight')   # save the figure to file\n",
    "    plt.show()\n",
    "    plt.close() "
   ]
  },
  {
   "cell_type": "markdown",
   "metadata": {},
   "source": [
    "### PCA on Training, Gallery, and Query Set"
   ]
  },
  {
   "cell_type": "code",
   "execution_count": 7,
   "metadata": {},
   "outputs": [],
   "source": [
    "def PCA(X, M):\n",
    "    AvgFace = calculateAverageFace(X)\n",
    "    A = normalize(X, AvgFace)\n",
    "    S = calculateCovarianceMatrix(A)\n",
    "    eigen_values, eigen_vectors = calculateEigenValuesAndVectors(S)\n",
    "    x_points = 1000\n",
    "    #plotEigenValueGraph(eigen_values, x_points)\n",
    "    variance_captured = np.sum(eigen_values[:M])*100/np.sum(eigen_values)\n",
    "    print(\"Variance Captured by top \", M, \" features is \", variance_captured, \".\")\n",
    "    top_eigen_vectors = eigen_vectors[:, :M]\n",
    "    reduced_dim_X =  calculateWeights(A, top_eigen_vectors)\n",
    "    return reduced_dim_X, top_eigen_vectors, AvgFace"
   ]
  },
  {
   "cell_type": "code",
   "execution_count": 146,
   "metadata": {},
   "outputs": [
    {
     "name": "stdout",
     "output_type": "stream",
     "text": [
      "Variance Captured by top  100  features is  92.92050565369443 .\n"
     ]
    }
   ],
   "source": [
    "M = 100\n",
    "reduced_training_images, eigen_space, AvgFace = PCA(training_images, M)"
   ]
  },
  {
   "cell_type": "code",
   "execution_count": 147,
   "metadata": {},
   "outputs": [],
   "source": [
    "reduced_gallery_images = calculateWeights(normalize(gallery_images, AvgFace), eigen_space)\n",
    "reduced_query_images = calculateWeights(normalize(query_images, AvgFace), eigen_space)"
   ]
  },
  {
   "cell_type": "markdown",
   "metadata": {},
   "source": [
    "## kNN Classification for query set on gallery set"
   ]
  },
  {
   "cell_type": "code",
   "execution_count": 8,
   "metadata": {},
   "outputs": [],
   "source": [
    "def calculate_recall_index(value, recall): #only used in calcAP function below\n",
    "    for index, recall_val in enumerate(recall):\n",
    "        if recall_val >= value:\n",
    "            return index\n",
    "    \n",
    "def calcAP(true_label, rank_k_labels):\n",
    "    correct_list = [true_label == this_label for this_label in rank_k_labels]\n",
    "    precision = []\n",
    "    recall = []\n",
    "    for i in range(len(rank_k_labels)):\n",
    "        precision.append(sum(correct_list[:i+1])/len(correct_list[:i+1]))\n",
    "        recall.append(sum(correct_list[:i+1])/sum(correct_list))\n",
    "    max_list = []\n",
    "    for i in range(11):\n",
    "        recall_index = calculate_recall_index(i/10, recall)\n",
    "        max_list.append(max(precision[recall_index:]))\n",
    "    #print(max_list)\n",
    "    return np.mean(max_list)"
   ]
  },
  {
   "cell_type": "code",
   "execution_count": 25,
   "metadata": {},
   "outputs": [],
   "source": [
    "def remove_indices(n_indices, query_index):\n",
    "    query_label_and_camId = (train_idxs['labels'][query_index][0], train_idxs['camId'][query_index][0])\n",
    "    list_of_gallery_label_and_camId = [(label[0], camId[0]) for label, camId in zip(train_idxs['labels'][n_indices], train_idxs['camId'][n_indices])] \n",
    "    final_list = list(filter(lambda a: a != query_label_and_camId, list_of_gallery_label_and_camId))\n",
    "    #print(train_idxs['filelist'][n_indices][:15])\n",
    "    return [tup[0] for tup in final_list]#, [tup[1] for tup in final_list]\n",
    "\n",
    "def get_accuracy(k, N, query_images, gallery_images):\n",
    "    list_of_truths = []\n",
    "    AP_vals = []\n",
    "    start = time.time() #time tracking - start time of process\n",
    "    neigh = NearestNeighbors(n_neighbors=N, n_jobs=-1)\n",
    "    neigh.fit(gallery_images)   #new_gallery_labels)\n",
    "    for index, query_index in enumerate(query_indices.tolist()):\n",
    "        if (index % 100 == 0):\n",
    "            print(\"Index: \", index, \" & time taken: \", time.time() - start)\n",
    "        N_distances, N_indices = neigh.kneighbors(query_images[index].reshape(1, len(query_images[0, :])))\n",
    "        #print(N_distances.shape)\n",
    "        #print('hi')\n",
    "        #print(N_indices)\n",
    "        forLoopStart = time.time()\n",
    "        topN_gallery_indices = (gallery_indices[N_indices[0]]).tolist()\n",
    "        reduced_topN_labels = remove_indices(topN_gallery_indices, query_index)\n",
    "        #print(len(topN_gallery_indices), len(reduced_topN_labels))\n",
    "        #print((query_labels[query_index][0], reduced_topN_labels[:k]))\n",
    "        #print(query_labels[index][0], query_indices[index])\n",
    "        #print(reduced_topN_labels[:k])\n",
    "        #print(camIds[:k])\n",
    "        if query_labels[index][0] in reduced_topN_labels[:k]:\n",
    "            list_of_truths.append(True)\n",
    "        else:\n",
    "            list_of_truths.append(False)\n",
    "        AP = calcAP(query_labels[index][0], reduced_topN_labels[:k])\n",
    "        AP_vals.append(AP)\n",
    "    #over-all accuracy  \n",
    "    acc = sum(list_of_truths)/len(list_of_truths)\n",
    "    #print(acc)\n",
    "    return acc, np.mean(AP_vals)"
   ]
  },
  {
   "cell_type": "code",
   "execution_count": 14,
   "metadata": {},
   "outputs": [
    {
     "name": "stdout",
     "output_type": "stream",
     "text": [
      "For rank  1 : \n",
      "Index:  0  & time taken:  2.1827785968780518\n"
     ]
    },
    {
     "name": "stderr",
     "output_type": "stream",
     "text": [
      "C:\\ProgramData\\Anaconda3\\lib\\site-packages\\ipykernel_launcher.py:12: RuntimeWarning: invalid value encountered in long_scalars\n",
      "  if sys.path[0] == '':\n"
     ]
    },
    {
     "name": "stdout",
     "output_type": "stream",
     "text": [
      "Index:  100  & time taken:  17.571115732192993\n",
      "Index:  200  & time taken:  35.40209436416626\n",
      "Index:  300  & time taken:  49.51718807220459\n",
      "Index:  400  & time taken:  64.7836856842041\n",
      "Index:  500  & time taken:  75.22849178314209\n",
      "Index:  600  & time taken:  85.63636827468872\n",
      "Index:  700  & time taken:  96.04140877723694\n",
      "Index:  800  & time taken:  106.43112397193909\n",
      "Index:  900  & time taken:  116.89226341247559\n",
      "Index:  1000  & time taken:  127.29343581199646\n",
      "Index:  1100  & time taken:  137.66773867607117\n",
      "Index:  1200  & time taken:  148.03430795669556\n",
      "Index:  1300  & time taken:  158.78056025505066\n",
      "[1, 0.47, 0.47]\n",
      "For rank  2 : \n",
      "Index:  0  & time taken:  0.9939818382263184\n",
      "Index:  100  & time taken:  11.820737600326538\n",
      "Index:  200  & time taken:  22.72847056388855\n",
      "Index:  300  & time taken:  33.518255949020386\n",
      "Index:  400  & time taken:  44.52291440963745\n",
      "Index:  500  & time taken:  55.5569384098053\n",
      "Index:  600  & time taken:  66.59140849113464\n",
      "Index:  700  & time taken:  77.53325247764587\n",
      "Index:  800  & time taken:  88.49873876571655\n",
      "Index:  900  & time taken:  99.3600287437439\n",
      "Index:  1000  & time taken:  110.33915400505066\n",
      "Index:  1100  & time taken:  121.31733703613281\n",
      "Index:  1200  & time taken:  132.06951093673706\n",
      "Index:  1300  & time taken:  143.02154803276062\n",
      "[2, 0.5457142857142857, 0.5078571428571429]\n",
      "For rank  3 : \n",
      "Index:  0  & time taken:  1.0401129722595215\n",
      "Index:  100  & time taken:  11.64918851852417\n",
      "Index:  200  & time taken:  22.262954473495483\n",
      "Index:  300  & time taken:  33.08895921707153\n",
      "Index:  400  & time taken:  43.805415630340576\n",
      "Index:  500  & time taken:  54.720213651657104\n",
      "Index:  600  & time taken:  65.58480048179626\n",
      "Index:  700  & time taken:  76.43740344047546\n",
      "Index:  800  & time taken:  87.33542990684509\n",
      "Index:  900  & time taken:  98.15119075775146\n",
      "Index:  1000  & time taken:  108.94865918159485\n",
      "Index:  1100  & time taken:  119.7503604888916\n",
      "Index:  1200  & time taken:  130.49150824546814\n",
      "Index:  1300  & time taken:  141.0777988433838\n",
      "[3, 0.5964285714285714, 0.5215800865800866]\n",
      "For rank  4 : \n",
      "Index:  0  & time taken:  0.9592640399932861\n",
      "Index:  100  & time taken:  11.51431131362915\n",
      "Index:  200  & time taken:  22.10146951675415\n",
      "Index:  300  & time taken:  32.70995879173279\n",
      "Index:  400  & time taken:  43.529359340667725\n",
      "Index:  500  & time taken:  54.28871774673462\n",
      "Index:  600  & time taken:  64.92868423461914\n",
      "Index:  700  & time taken:  75.41761016845703\n",
      "Index:  800  & time taken:  86.15488290786743\n",
      "Index:  900  & time taken:  96.882328748703\n",
      "Index:  1000  & time taken:  107.61757206916809\n",
      "Index:  1100  & time taken:  118.37012505531311\n",
      "Index:  1200  & time taken:  129.15271830558777\n",
      "Index:  1300  & time taken:  139.8208088874817\n",
      "[4, 0.6392857142857142, 0.5278950216450216]\n",
      "For rank  5 : \n",
      "Index:  0  & time taken:  0.9609420299530029\n",
      "Index:  100  & time taken:  11.68528962135315\n",
      "Index:  200  & time taken:  22.337557315826416\n",
      "Index:  300  & time taken:  32.89590930938721\n",
      "Index:  400  & time taken:  43.69313669204712\n",
      "Index:  500  & time taken:  54.47147512435913\n",
      "Index:  600  & time taken:  65.13364171981812\n",
      "Index:  700  & time taken:  75.79086065292358\n",
      "Index:  800  & time taken:  86.33293747901917\n",
      "Index:  900  & time taken:  96.98872256278992\n",
      "Index:  1000  & time taken:  107.69781994819641\n",
      "Index:  1100  & time taken:  118.31923866271973\n",
      "Index:  1200  & time taken:  128.8686466217041\n",
      "Index:  1300  & time taken:  139.53970217704773\n",
      "[5, 0.6685714285714286, 0.5272045454545454]\n",
      "For rank  6 : \n",
      "Index:  0  & time taken:  0.9924948215484619\n",
      "Index:  100  & time taken:  11.660253047943115\n",
      "Index:  200  & time taken:  22.224061012268066\n",
      "Index:  300  & time taken:  32.947705030441284\n",
      "Index:  400  & time taken:  43.510308027267456\n",
      "Index:  500  & time taken:  54.20824193954468\n",
      "Index:  600  & time taken:  64.97337007522583\n",
      "Index:  700  & time taken:  75.71064186096191\n",
      "Index:  800  & time taken:  86.39716958999634\n",
      "Index:  900  & time taken:  97.13790225982666\n",
      "Index:  1000  & time taken:  107.91638922691345\n",
      "Index:  1100  & time taken:  118.55661273002625\n",
      "Index:  1200  & time taken:  129.22488284111023\n",
      "Index:  1300  & time taken:  139.95071411132812\n",
      "[6, 0.6928571428571428, 0.5268441558441559]\n",
      "For rank  8 : \n",
      "Index:  0  & time taken:  1.2955474853515625\n",
      "Index:  100  & time taken:  12.038228988647461\n",
      "Index:  200  & time taken:  22.790308713912964\n",
      "Index:  300  & time taken:  33.27042293548584\n",
      "Index:  400  & time taken:  43.870344161987305\n",
      "Index:  500  & time taken:  54.42435669898987\n",
      "Index:  600  & time taken:  65.03678488731384\n",
      "Index:  700  & time taken:  75.78048515319824\n",
      "Index:  800  & time taken:  86.517578125\n",
      "Index:  900  & time taken:  97.12658953666687\n",
      "Index:  1000  & time taken:  107.68464350700378\n",
      "Index:  1100  & time taken:  118.49202489852905\n",
      "Index:  1200  & time taken:  129.00064086914062\n",
      "Index:  1300  & time taken:  139.6008062362671\n",
      "[8, 0.7235714285714285, 0.5220928416821274]\n",
      "For rank  11 : \n",
      "Index:  0  & time taken:  0.978116512298584\n",
      "Index:  100  & time taken:  11.671719789505005\n",
      "Index:  200  & time taken:  22.32643747329712\n",
      "Index:  300  & time taken:  32.87576174736023\n",
      "Index:  400  & time taken:  43.52881169319153\n",
      "Index:  500  & time taken:  54.19586157798767\n",
      "Index:  600  & time taken:  64.85541582107544\n",
      "Index:  700  & time taken:  75.57661080360413\n",
      "Index:  800  & time taken:  86.40863060951233\n",
      "Index:  900  & time taken:  97.0200548171997\n",
      "Index:  1000  & time taken:  107.7557282447815\n",
      "Index:  1100  & time taken:  118.59910464286804\n",
      "Index:  1200  & time taken:  129.40849471092224\n",
      "Index:  1300  & time taken:  140.17753219604492\n",
      "[11, 0.7585714285714286, 0.5143522961526208]\n",
      "For rank  14 : \n",
      "Index:  0  & time taken:  0.9567916393280029\n",
      "Index:  100  & time taken:  11.521112442016602\n",
      "Index:  200  & time taken:  22.212416172027588\n",
      "Index:  300  & time taken:  32.96219730377197\n",
      "Index:  400  & time taken:  43.79837393760681\n",
      "Index:  500  & time taken:  54.66417694091797\n",
      "Index:  600  & time taken:  65.42081761360168\n",
      "Index:  700  & time taken:  76.18272805213928\n",
      "Index:  800  & time taken:  87.00231647491455\n",
      "Index:  900  & time taken:  97.81272506713867\n",
      "Index:  1000  & time taken:  108.51793718338013\n",
      "Index:  1100  & time taken:  119.38999938964844\n",
      "Index:  1200  & time taken:  130.40180730819702\n",
      "Index:  1300  & time taken:  141.18232131004333\n",
      "[14, 0.785, 0.5095774339297067]\n",
      "For rank  19 : \n",
      "Index:  0  & time taken:  1.0034067630767822\n",
      "Index:  100  & time taken:  11.860872030258179\n",
      "Index:  200  & time taken:  22.807368755340576\n",
      "Index:  300  & time taken:  33.61334538459778\n",
      "Index:  400  & time taken:  44.433030128479004\n",
      "Index:  500  & time taken:  55.194364070892334\n",
      "Index:  600  & time taken:  66.09905242919922\n",
      "Index:  700  & time taken:  77.02768802642822\n",
      "Index:  800  & time taken:  87.85603857040405\n",
      "Index:  900  & time taken:  98.77591156959534\n",
      "Index:  1000  & time taken:  109.53575539588928\n",
      "Index:  1100  & time taken:  120.2349841594696\n",
      "Index:  1200  & time taken:  130.95770001411438\n",
      "Index:  1300  & time taken:  141.72270584106445\n",
      "[19, 0.8228571428571428, 0.502517581598783]\n",
      "For rank  26 : \n",
      "Index:  0  & time taken:  0.9493463039398193\n",
      "Index:  100  & time taken:  11.828397512435913\n",
      "Index:  200  & time taken:  22.694159984588623\n",
      "Index:  300  & time taken:  33.615477561950684\n",
      "Index:  400  & time taken:  44.4768648147583\n",
      "Index:  500  & time taken:  55.38546872138977\n",
      "Index:  600  & time taken:  66.2994875907898\n",
      "Index:  700  & time taken:  77.22866249084473\n",
      "Index:  800  & time taken:  88.12223243713379\n",
      "Index:  900  & time taken:  99.05505752563477\n",
      "Index:  1000  & time taken:  110.02812337875366\n",
      "Index:  1100  & time taken:  120.96640825271606\n",
      "Index:  1200  & time taken:  131.87569117546082\n",
      "Index:  1300  & time taken:  142.84436178207397\n",
      "[26, 0.8528571428571429, 0.49731520729115103]\n",
      "For rank  34 : \n",
      "Index:  0  & time taken:  0.932957649230957\n",
      "Index:  100  & time taken:  12.891122579574585\n",
      "Index:  200  & time taken:  24.828917503356934\n",
      "Index:  300  & time taken:  36.65960335731506\n",
      "Index:  400  & time taken:  48.44597005844116\n",
      "Index:  500  & time taken:  60.38323211669922\n",
      "Index:  600  & time taken:  72.31231784820557\n",
      "Index:  700  & time taken:  84.18518114089966\n",
      "Index:  800  & time taken:  96.03147506713867\n",
      "Index:  900  & time taken:  107.90644931793213\n"
     ]
    },
    {
     "name": "stdout",
     "output_type": "stream",
     "text": [
      "Index:  1000  & time taken:  119.24550914764404\n",
      "Index:  1100  & time taken:  130.41961002349854\n",
      "Index:  1200  & time taken:  141.599378824234\n",
      "Index:  1300  & time taken:  153.2544379234314\n",
      "[34, 0.8714285714285714, 0.49033161883060483]\n",
      "For rank  45 : \n",
      "Index:  0  & time taken:  0.9717006683349609\n",
      "Index:  100  & time taken:  12.914498090744019\n",
      "Index:  200  & time taken:  24.95019769668579\n",
      "Index:  300  & time taken:  37.076090574264526\n",
      "Index:  400  & time taken:  49.20830488204956\n",
      "Index:  500  & time taken:  61.355066776275635\n",
      "Index:  600  & time taken:  73.45353245735168\n",
      "Index:  700  & time taken:  85.55447840690613\n",
      "Index:  800  & time taken:  97.6679162979126\n",
      "Index:  900  & time taken:  109.80105304718018\n",
      "Index:  1000  & time taken:  121.91180896759033\n",
      "Index:  1100  & time taken:  134.03330898284912\n",
      "Index:  1200  & time taken:  145.95392680168152\n",
      "Index:  1300  & time taken:  158.09110474586487\n",
      "[45, 0.8907142857142857, 0.48611382275125997]\n",
      "For rank  65 : \n",
      "Index:  0  & time taken:  0.9419028759002686\n",
      "Index:  100  & time taken:  13.439484596252441\n",
      "Index:  200  & time taken:  25.93706178665161\n",
      "Index:  300  & time taken:  38.44121766090393\n",
      "Index:  400  & time taken:  50.90496110916138\n",
      "Index:  500  & time taken:  63.504860162734985\n",
      "Index:  600  & time taken:  75.9533474445343\n",
      "Index:  700  & time taken:  88.46390652656555\n",
      "Index:  800  & time taken:  101.06019997596741\n",
      "Index:  900  & time taken:  113.60083341598511\n",
      "Index:  1000  & time taken:  126.19330883026123\n",
      "Index:  1100  & time taken:  139.00854921340942\n",
      "Index:  1200  & time taken:  152.58389019966125\n",
      "Index:  1300  & time taken:  165.38152074813843\n",
      "[65, 0.9264285714285714, 0.48245843816242345]\n",
      "For rank  85 : \n",
      "Index:  0  & time taken:  0.9428954124450684\n",
      "Index:  100  & time taken:  14.870139837265015\n",
      "Index:  200  & time taken:  28.812590837478638\n",
      "Index:  300  & time taken:  42.80344271659851\n",
      "Index:  400  & time taken:  56.90176439285278\n",
      "Index:  500  & time taken:  70.8879063129425\n",
      "Index:  600  & time taken:  84.96090054512024\n",
      "Index:  700  & time taken:  99.1604278087616\n",
      "Index:  800  & time taken:  113.23709917068481\n",
      "Index:  900  & time taken:  127.22518539428711\n",
      "Index:  1000  & time taken:  141.1899082660675\n",
      "Index:  1100  & time taken:  155.3359832763672\n",
      "Index:  1200  & time taken:  169.21851563453674\n",
      "Index:  1300  & time taken:  183.19638109207153\n",
      "[85, 0.9364285714285714, 0.480293263653538]\n",
      "For rank  100 : \n",
      "Index:  0  & time taken:  0.9401957988739014\n",
      "Index:  100  & time taken:  15.969696044921875\n",
      "Index:  200  & time taken:  31.113728046417236\n",
      "Index:  300  & time taken:  46.45806097984314\n",
      "Index:  400  & time taken:  61.45314884185791\n",
      "Index:  500  & time taken:  76.75834369659424\n",
      "Index:  600  & time taken:  91.73706126213074\n",
      "Index:  700  & time taken:  106.68405365943909\n",
      "Index:  800  & time taken:  121.87101793289185\n",
      "Index:  900  & time taken:  137.13413882255554\n",
      "Index:  1000  & time taken:  152.307284116745\n",
      "Index:  1100  & time taken:  167.36349654197693\n",
      "Index:  1200  & time taken:  182.48963117599487\n",
      "Index:  1300  & time taken:  197.70101261138916\n",
      "[100, 0.9428571428571428, 0.47930331266702847]\n"
     ]
    }
   ],
   "source": [
    "N=100\n",
    "k = [1, 2, 3, 4, 5, 6, 8, 11, 14, 19, 26, 34, 45, 65, 85, 100]\n",
    "baseline_results = []\n",
    "for k_val in k: \n",
    "    print(\"For rank \", k_val, \": \")\n",
    "    accuracy, mAP = get_accuracy(k_val, N, query_images, gallery_images)\n",
    "    results = [k_val, accuracy, mAP]\n",
    "    baseline_results.append(results)\n",
    "    print(results)\n",
    "    "
   ]
  },
  {
   "cell_type": "code",
   "execution_count": 58,
   "metadata": {},
   "outputs": [],
   "source": [
    "def calc_acc_all_k(all_reduced_topN_labels, query_labels, k_val):\n",
    "    all_accs = []\n",
    "    for k in range(1, k_val):\n",
    "        this_k_acc = []\n",
    "        for index, reduced_topN_labels in enumerate(all_reduced_topN_labels):\n",
    "            this_k_acc.append(query_labels[index][0] in reduced_topN_labels[:k])\n",
    "        all_accs.append(sum(this_k_acc)/len(this_k_acc))\n",
    "    return all_accs\n",
    "\n",
    "def calc_AP_all_k(all_reduced_topN_labels, query_labels, k_val):\n",
    "    all_AP = []\n",
    "    for k in range(1, k_val):\n",
    "        print('k=', k)\n",
    "        AP_vals = []\n",
    "        for index, reduced_topN_labels in enumerate(all_reduced_topN_labels):\n",
    "            AP = calcAP(query_labels[index][0], reduced_topN_labels[:k])\n",
    "            AP_vals.append(AP)\n",
    "        all_AP.append(np.mean(AP_vals))\n",
    "    all_AP = np.array(all_AP)\n",
    "    return all_AP\n",
    "    \n",
    "def get_accuracy_improved(k, N, query_images, gallery_images):\n",
    "    list_of_truths = []\n",
    "    AP_vals = []\n",
    "    start = time.time() #time tracking - start time of process\n",
    "    neigh = NearestNeighbors(n_neighbors=N, n_jobs=-1)\n",
    "    neigh.fit(gallery_images)   #new_gallery_labels)\n",
    "    all_labels = []\n",
    "    all_N_neighbours = []\n",
    "    all_accs = []\n",
    "    all_reduced_topN_labels = []\n",
    "    for index, query_index in enumerate(query_indices.tolist()):\n",
    "        if (index % 100 == 0):\n",
    "            print(\"Index: \", index, \" & time taken: \", time.time() - start)\n",
    "        N_distances, N_indices = neigh.kneighbors(query_images[index].reshape(1, len(query_images[0, :])))\n",
    "        #print(N_distances.shape)\n",
    "        #print('hi')\n",
    "        #print(N_indices)\n",
    "        forLoopStart = time.time()\n",
    "        topN_gallery_indices = (gallery_indices[N_indices[0]]).tolist()\n",
    "        reduced_topN_labels = remove_indices(topN_gallery_indices, query_index)\n",
    "        #print(len(topN_gallery_indices), len(reduced_topN_labels))\n",
    "        #print((query_labels[query_index][0], reduced_topN_labels[:k]))\n",
    "        #print(query_labels[index][0], query_indices[index])\n",
    "        #print(reduced_topN_labels[:k])\n",
    "        #print(camIds[:k])\n",
    "        #if query_labels[index][0] in reduced_topN_labels[:k]:\n",
    "        #    list_of_truths.append(True)\n",
    "        #else:\n",
    "        #    list_of_truths.append(False)\n",
    "        all_reduced_topN_labels.append(reduced_topN_labels)\n",
    "        AP = calcAP(query_labels[index][0], reduced_topN_labels[:k])\n",
    "        AP_vals.append(AP)\n",
    "        acc_all_k = calc_acc_all_k(query_labels[index][0], reduced_topN_labels)\n",
    "        all_accs.append(acc_all_k)\n",
    "        #this_label, N_neighbours = query_labels[index][0], reduced_topN_labels\n",
    "        #all_labels.append(this_label)\n",
    "        #all_N_neighbours.append(N_neighbours)\n",
    "    #all_accs, all_APs = calc_acc_AP_all_k(all_reduced_topN_labels, query_labels) #all_accs = [] where each element is the acc for k=index, etc.\n",
    "    #over-all accuracy\n",
    "    return all_reduced_topN_labels\n",
    "    acc_k_vals = calc_acc_k_vals(all_labels, all_N_neighbours)\n",
    "    #acc = sum(list_of_truths)/len(list_of_truths)\n",
    "    print(np.array(all_accs))\n",
    "    #print(acc)\n",
    "    return all_accs, np.mean(all_APs, axis=1) #maybe axis=0?"
   ]
  },
  {
   "cell_type": "code",
   "execution_count": 46,
   "metadata": {},
   "outputs": [
    {
     "name": "stdout",
     "output_type": "stream",
     "text": [
      "For rank  1 : \n",
      "Index:  0  & time taken:  0.9557905197143555\n"
     ]
    },
    {
     "name": "stderr",
     "output_type": "stream",
     "text": [
      "C:\\ProgramData\\Anaconda3\\lib\\site-packages\\ipykernel_launcher.py:12: RuntimeWarning: invalid value encountered in long_scalars\n",
      "  if sys.path[0] == '':\n"
     ]
    },
    {
     "name": "stdout",
     "output_type": "stream",
     "text": [
      "Index:  100  & time taken:  11.366840362548828\n",
      "Index:  200  & time taken:  21.771477222442627\n",
      "Index:  300  & time taken:  32.20358943939209\n",
      "Index:  400  & time taken:  42.64135980606079\n",
      "Index:  500  & time taken:  53.045504093170166\n",
      "Index:  600  & time taken:  63.45678114891052\n",
      "Index:  700  & time taken:  73.86095714569092\n",
      "Index:  800  & time taken:  84.27045035362244\n",
      "Index:  900  & time taken:  94.67671370506287\n",
      "Index:  1000  & time taken:  105.10857510566711\n",
      "Index:  1100  & time taken:  115.52924394607544\n",
      "Index:  1200  & time taken:  125.93397068977356\n",
      "Index:  1300  & time taken:  136.33827090263367\n"
     ]
    }
   ],
   "source": [
    "N = 110\n",
    "\n",
    "baseline_results_improved_k = []\n",
    "print(\"For rank \", k_val, \": \")\n",
    "all_reduced_topN_labels = get_accuracy_improved(10, N, query_images, gallery_images)\n",
    "#results = [k_val, accuracy_array, mAP]\n",
    "#baseline_results_improved~_k.append(results)\n",
    "#print(results)\n"
   ]
  },
  {
   "cell_type": "code",
   "execution_count": 127,
   "metadata": {},
   "outputs": [
    {
     "name": "stdout",
     "output_type": "stream",
     "text": [
      "[0.47, 0.5457142857142857, 0.5964285714285714, 0.6392857142857142, 0.6685714285714286, 0.6928571428571428, 0.7114285714285714, 0.7235714285714285, 0.7371428571428571, 0.7492857142857143, 0.7585714285714286, 0.7678571428571429, 0.7771428571428571, 0.785, 0.7907142857142857, 0.7985714285714286, 0.8064285714285714, 0.8157142857142857, 0.8228571428571428, 0.8321428571428572, 0.835, 0.8371428571428572, 0.84, 0.8428571428571429, 0.8478571428571429, 0.8528571428571429, 0.8564285714285714, 0.8592857142857143, 0.8607142857142858, 0.8635714285714285, 0.8678571428571429, 0.8692857142857143, 0.8692857142857143, 0.8714285714285714, 0.8721428571428571, 0.8721428571428571, 0.8728571428571429, 0.875, 0.8778571428571429, 0.8807142857142857, 0.8821428571428571, 0.885, 0.8871428571428571, 0.8892857142857142, 0.8907142857142857, 0.8907142857142857, 0.8914285714285715, 0.8935714285714286, 0.8942857142857142, 0.8978571428571429, 0.8985714285714286, 0.9014285714285715, 0.905, 0.9057142857142857, 0.9085714285714286, 0.9092857142857143, 0.9128571428571428, 0.915, 0.9164285714285715, 0.9185714285714286, 0.9192857142857143, 0.9221428571428572, 0.9242857142857143, 0.925, 0.9264285714285714, 0.9278571428571428, 0.9292857142857143, 0.9307142857142857, 0.9307142857142857, 0.9314285714285714, 0.9321428571428572, 0.9321428571428572, 0.9321428571428572, 0.9321428571428572, 0.9321428571428572, 0.9321428571428572, 0.9335714285714286, 0.9335714285714286, 0.9342857142857143, 0.9342857142857143, 0.9342857142857143, 0.935, 0.9357142857142857, 0.9364285714285714, 0.9364285714285714, 0.9364285714285714, 0.9364285714285714, 0.9371428571428572, 0.9371428571428572, 0.9371428571428572, 0.9385714285714286, 0.94, 0.94, 0.9407142857142857, 0.9421428571428572, 0.9428571428571428, 0.9435714285714286, 0.9435714285714286, 0.9435714285714286, 0.9457142857142857]\n"
     ]
    }
   ],
   "source": [
    "all_accs = calc_acc_all_k(all_reduced_topN_labels, query_labels, 101)\n",
    "print(all_accs)\n",
    "#all_AP = calc_AP_all_k(all_reduced_topN_labels, query_labels, 101)\n",
    "#print(all_AP)"
   ]
  },
  {
   "cell_type": "code",
   "execution_count": null,
   "metadata": {},
   "outputs": [],
   "source": [
    "## DELETE THIS WHOLE CELL\n",
    "\n",
    "\n",
    "7, 58     1_007_1_02\n",
    "[22, 7, 382, 22, 7, 303, 7, 854, 7, 441]\n",
    "[1, 2, 1, 1, 2, 1, 2, 2, 2, 1]\n",
    "[[array(['1_007_2_09.png'], dtype='<U14')]\n",
    " [array(['1_007_2_08.png'], dtype='<U14')]\n",
    " [array(['1_007_2_07.png'], dtype='<U14')]\n",
    " [array(['1_007_2_10.png'], dtype='<U14')]\n",
    " [array(['1_319_2_08.png'], dtype='<U14')]\n",
    " [array(['1_319_2_06.png'], dtype='<U14')]\n",
    " [array(['1_319_2_07.png'], dtype='<U14')]\n",
    " [array(['1_319_2_09.png'], dtype='<U14')]\n",
    " [array(['1_022_1_02.png'], dtype='<U14')]\n",
    " [array(['1_022_1_03.png'], dtype='<U14')]\n",
    " #[array(['1_426_1_03.png'], dtype='<U14')]]\n",
    "\n",
    "\n",
    "#7, 62 (camId:2)    1_007_2_06\n",
    "#[319, 319, 7, 319, 7, 7, 7, 319, 22, 22]\n",
    "#[2, 2, 1, 2, 1, 1, 1, 2, 1, 1]\n",
    "#[[array(['1_011_1_02.png'], dtype='<U14')]\n",
    "# [array(['1_011_1_04.png'], dtype='<U14')]\n",
    "# [array(['1_011_1_01.png'], dtype='<U14')]\n",
    "# [array(['1_390_2_10.png'], dtype='<U14')]\n",
    "# [array(['1_738_1_03.png'], dtype='<U14')]\n",
    "# [array(['1_011_2_10.png'], dtype='<U14')]\n",
    "# [array(['1_738_1_02.png'], dtype='<U14')]\n",
    "# [array(['1_011_2_09.png'], dtype='<U14')]\n",
    "# [array(['1_055_1_04.png'], dtype='<U14')]\n",
    "# [array(['1_011_2_07.png'], dtype='<U14')]]\n",
    "\n",
    "\n",
    "11, 99 (camId(1))     1_011_1_03 \n",
    "[390, 738, 11, 738, 11, 55, 11, 625, 211, 42]\n",
    "[2, 1, 2, 1, 2, 1, 2, 1, 2, 2]\n",
    "[[array(['1_011_2_07.png'], dtype='<U14')]\n",
    " [array(['1_011_2_09.png'], dtype='<U14')]\n",
    " [array(['1_011_2_08.png'], dtype='<U14')]\n",
    " [array(['1_011_2_10.png'], dtype='<U14')]\n",
    " [array(['1_738_2_08.png'], dtype='<U14')]\n",
    " [array(['1_055_1_04.png'], dtype='<U14')]\n",
    " [array(['1_721_2_07.png'], dtype='<U14')]\n",
    " [array(['1_721_2_08.png'], dtype='<U14')]\n",
    " [array(['1_721_2_09.png'], dtype='<U14')]]\n",
    " [array(['1_401_2_08.png'], dtype='<U14')]"
   ]
  },
  {
   "cell_type": "code",
   "execution_count": 270,
   "metadata": {},
   "outputs": [
    {
     "data": {
      "text/plain": [
       "array([[ 7.51665988e-02, -2.13931898e-01,  1.82375075e-01, ...,\n",
       "         1.17935912e-03, -1.83009646e-03,  6.44215924e-04],\n",
       "       [ 4.98373454e-02, -2.76704402e-01,  2.07031763e-01, ...,\n",
       "         1.81335126e-03, -8.94494709e-04, -9.35844399e-04],\n",
       "       [ 2.97090900e-02, -2.46814502e-01,  1.84029012e-01, ...,\n",
       "         2.54448802e-03, -1.30504720e-03,  4.06488781e-05],\n",
       "       ...,\n",
       "       [ 1.97073951e-02,  1.27395267e-01,  1.59405793e-01, ...,\n",
       "        -2.73751627e-03, -6.85079450e-04, -2.11712592e-03],\n",
       "       [ 4.31737487e-02,  1.83651074e-01,  1.58359543e-01, ...,\n",
       "        -1.93050413e-04,  1.64827463e-03,  4.32506008e-03],\n",
       "       [ 6.89824342e-02,  1.80058167e-01,  1.63204092e-01, ...,\n",
       "         6.04884920e-04,  1.03840411e-03,  2.51251101e-03]])"
      ]
     },
     "execution_count": 270,
     "metadata": {},
     "output_type": "execute_result"
    }
   ],
   "source": [
    "new_gallery_images"
   ]
  },
  {
   "cell_type": "code",
   "execution_count": 334,
   "metadata": {},
   "outputs": [
    {
     "data": {
      "text/plain": [
       "array([array(['1_007_1_02.png'], dtype='<U14')], dtype=object)"
      ]
     },
     "execution_count": 334,
     "metadata": {},
     "output_type": "execute_result"
    }
   ],
   "source": [
    "train_idxs['filelist'][58]"
   ]
  },
  {
   "cell_type": "code",
   "execution_count": 126,
   "metadata": {},
   "outputs": [
    {
     "data": {
      "text/plain": [
       "[0.0,\n",
       " 0.0007142857142857143,\n",
       " 0.0007142857142857143,\n",
       " 0.0007142857142857143,\n",
       " 0.0007142857142857143,\n",
       " 0.0007142857142857143,\n",
       " 0.002142857142857143,\n",
       " 0.004285714285714286,\n",
       " 0.005714285714285714,\n",
       " 0.005714285714285714,\n",
       " 0.0064285714285714285,\n",
       " 0.0064285714285714285,\n",
       " 0.0064285714285714285,\n",
       " 0.007142857142857143,\n",
       " 0.007857142857142858,\n",
       " 0.007857142857142858,\n",
       " 0.007857142857142858,\n",
       " 0.007857142857142858,\n",
       " 0.008571428571428572,\n",
       " 0.008571428571428572,\n",
       " 0.009285714285714286,\n",
       " 0.009285714285714286,\n",
       " 0.009285714285714286,\n",
       " 0.01,\n",
       " 0.01,\n",
       " 0.01,\n",
       " 0.010714285714285714,\n",
       " 0.010714285714285714,\n",
       " 0.011428571428571429,\n",
       " 0.011428571428571429,\n",
       " 0.011428571428571429,\n",
       " 0.012142857142857143,\n",
       " 0.012857142857142857,\n",
       " 0.012857142857142857,\n",
       " 0.013571428571428571,\n",
       " 0.013571428571428571,\n",
       " 0.013571428571428571,\n",
       " 0.013571428571428571,\n",
       " 0.013571428571428571,\n",
       " 0.013571428571428571,\n",
       " 0.013571428571428571,\n",
       " 0.013571428571428571,\n",
       " 0.013571428571428571,\n",
       " 0.014285714285714285,\n",
       " 0.014285714285714285,\n",
       " 0.014285714285714285,\n",
       " 0.014285714285714285,\n",
       " 0.015,\n",
       " 0.015714285714285715,\n",
       " 0.016428571428571428,\n",
       " 0.016428571428571428,\n",
       " 0.017142857142857144,\n",
       " 0.017142857142857144,\n",
       " 0.017857142857142856,\n",
       " 0.017857142857142856,\n",
       " 0.017857142857142856,\n",
       " 0.017857142857142856,\n",
       " 0.018571428571428572,\n",
       " 0.018571428571428572,\n",
       " 0.019285714285714285,\n",
       " 0.02,\n",
       " 0.020714285714285713,\n",
       " 0.02142857142857143,\n",
       " 0.02142857142857143,\n",
       " 0.02142857142857143,\n",
       " 0.02142857142857143,\n",
       " 0.023571428571428573,\n",
       " 0.023571428571428573,\n",
       " 0.023571428571428573,\n",
       " 0.023571428571428573,\n",
       " 0.024285714285714285,\n",
       " 0.024285714285714285,\n",
       " 0.024285714285714285,\n",
       " 0.025,\n",
       " 0.025,\n",
       " 0.025714285714285714,\n",
       " 0.025714285714285714,\n",
       " 0.025714285714285714,\n",
       " 0.02642857142857143,\n",
       " 0.02642857142857143,\n",
       " 0.027142857142857142,\n",
       " 0.027142857142857142,\n",
       " 0.027142857142857142,\n",
       " 0.027142857142857142,\n",
       " 0.027142857142857142,\n",
       " 0.027142857142857142,\n",
       " 0.027142857142857142,\n",
       " 0.027142857142857142,\n",
       " 0.027142857142857142,\n",
       " 0.027142857142857142,\n",
       " 0.027142857142857142,\n",
       " 0.027142857142857142,\n",
       " 0.027857142857142858,\n",
       " 0.027857142857142858,\n",
       " 0.02857142857142857,\n",
       " 0.02857142857142857,\n",
       " 0.029285714285714286,\n",
       " 0.029285714285714286,\n",
       " 0.03,\n",
       " 0.03]"
      ]
     },
     "execution_count": 126,
     "metadata": {},
     "output_type": "execute_result"
    }
   ],
   "source": [
    "all_accs"
   ]
  },
  {
   "cell_type": "code",
   "execution_count": 140,
   "metadata": {},
   "outputs": [
    {
     "data": {
      "image/png": "[encoded data removed]",
      "text/plain": [
       "<matplotlib.figure.Figure at 0x20382dfa208>"
      ]
     },
     "metadata": {},
     "output_type": "display_data"
    }
   ],
   "source": [
    "#plot baseline results graph (acc vs k)\n",
    "\n",
    "def plot_baseline_results(fileName, all_accs, baseline_results):\n",
    "    fig, ax1 = plt.subplots()\n",
    "    all_accs = np.array(all_accs)\n",
    "    #plt.plot(baseline_results[:,0], baseline_results[:,2])\n",
    "    \n",
    "    plt.xlabel('Number of nearest neighbours considered ($k$)')\n",
    "    ax1.set_ylabel('truncated mAP')\n",
    "    baseline_results = np.array(baseline_results)\n",
    "    plt.plot(baseline_results[:,0], baseline_results[:,2], color='red')\n",
    "    #plt.title('Accuracy for varying $k$')\n",
    "    #plt.grid(b=True, which='both')\n",
    "    ax1.legend(['truncated mAP'], loc='lower right')\n",
    "    \n",
    "    ax2 = ax1.twinx()\n",
    "    ax2.set_ylabel('Accuracy (%)')  # we already handled the x-label with ax1\n",
    "    plt.plot(range(1, len(all_accs)+1), all_accs*100)\n",
    "    ax2.legend(['Accuracy (%)'], loc='upper right')\n",
    "    fig.tight_layout()\n",
    "    \n",
    "    plt.savefig(fileName + '.png', bbox_inches='tight', dpi=300)\n",
    "    plt.show()\n",
    "    \n",
    "plot_baseline_results('baseline_results', all_accs, baseline_results)"
   ]
  },
  {
   "cell_type": "markdown",
   "metadata": {},
   "source": [
    "### Results for kNN: \n",
    "\n",
    "k = 1, Accuracy = 0.47, mAP = 0.47\n",
    "\n",
    "k = 5, Accuracy = 0.6685714285714286, mAP = 0.5272045454545454\n",
    "\n",
    "k = 10, Accuracy = 0.7492857142857143, mAP = 0.5169191146155432"
   ]
  },
  {
   "cell_type": "code",
   "execution_count": 20,
   "metadata": {},
   "outputs": [],
   "source": [
    "def get_accuracy_pca(k, N):\n",
    "    list_of_truths = []\n",
    "    AP_vals = []\n",
    "    start = time.time() #time tracking - start time of process\n",
    "    neigh = NearestNeighbors(n_neighbors=N, n_jobs=-1)\n",
    "    neigh.fit(reduced_gallery_images)   #new_gallery_labels)\n",
    "    for index, query_index in enumerate(query_indices.tolist()):\n",
    "        if (index % 200 == 0):\n",
    "            print(\"Index: \", index, \" & time taken: \", time.time() - start)\n",
    "        N_distances, N_indices = neigh.kneighbors(reduced_query_images[index].reshape(1, len(reduced_query_images[0, :])))\n",
    "        forLoopStart = time.time()\n",
    "        topN_gallery_indices = (gallery_indices[N_indices[0]]).tolist()\n",
    "        reduced_topN_labels = remove_indices(topN_gallery_indices, query_index)\n",
    "        if query_labels[index][0] in reduced_topN_labels[:k]:\n",
    "            list_of_truths.append(True)\n",
    "        else:\n",
    "            list_of_truths.append(False)\n",
    "        AP = calcAP(query_labels[index][0], reduced_topN_labels[:k])\n",
    "        AP_vals.append(AP)\n",
    "    #over-all accuracy  \n",
    "    acc = sum(list_of_truths)/len(list_of_truths)\n",
    "    print(acc)\n",
    "    return acc, np.mean(AP_vals)"
   ]
  },
  {
   "cell_type": "code",
   "execution_count": 142,
   "metadata": {},
   "outputs": [
    {
     "name": "stdout",
     "output_type": "stream",
     "text": [
      "For rank  1 : \n",
      "Index:  0  & time taken:  0.02941107749938965\n"
     ]
    },
    {
     "name": "stderr",
     "output_type": "stream",
     "text": [
      "/Library/Frameworks/Python.framework/Versions/3.6/lib/python3.6/site-packages/ipykernel_launcher.py:12: RuntimeWarning: invalid value encountered in long_scalars\n",
      "  if sys.path[0] == '':\n"
     ]
    },
    {
     "name": "stdout",
     "output_type": "stream",
     "text": [
      "Index:  200  & time taken:  21.079618215560913\n",
      "Index:  400  & time taken:  42.17799711227417\n",
      "Index:  600  & time taken:  63.17202019691467\n",
      "Index:  800  & time taken:  84.27191829681396\n",
      "Index:  1000  & time taken:  105.21672511100769\n",
      "Index:  1200  & time taken:  126.23884606361389\n",
      "0.46714285714285714\n",
      "(1, 0.46714285714285714, 0.46714285714285714)\n",
      "For rank  5 : \n",
      "Index:  0  & time taken:  0.013506174087524414\n",
      "Index:  200  & time taken:  20.97689700126648\n",
      "Index:  400  & time taken:  41.993072271347046\n",
      "Index:  600  & time taken:  63.114259004592896\n",
      "Index:  800  & time taken:  84.1421959400177\n",
      "Index:  1000  & time taken:  105.16470098495483\n",
      "Index:  1200  & time taken:  126.25219821929932\n",
      "0.6757142857142857\n",
      "(5, 0.6757142857142857, 0.5285400432900433)\n",
      "For rank  10 : \n",
      "Index:  0  & time taken:  0.013849973678588867\n",
      "Index:  200  & time taken:  21.23994207382202\n",
      "Index:  400  & time taken:  42.65201115608215\n",
      "Index:  600  & time taken:  63.94959092140198\n",
      "Index:  800  & time taken:  85.24179100990295\n",
      "Index:  1000  & time taken:  106.2984139919281\n",
      "Index:  1200  & time taken:  127.38018703460693\n",
      "0.7485714285714286\n",
      "(10, 0.7485714285714286, 0.5152942434549578)\n"
     ]
    }
   ],
   "source": [
    "N=100\n",
    "k = [1, 5, 10]\n",
    "results2 = []\n",
    "for k_val in k: \n",
    "    print(\"For rank \", k_val, \": \")\n",
    "    accuracy, mAP = get_accuracy_pca(k_val, N)\n",
    "    tup = (k_val, accuracy, mAP)\n",
    "    results2.append(tup)\n",
    "    print(tup)"
   ]
  },
  {
   "cell_type": "markdown",
   "metadata": {},
   "source": [
    "### Results for kNN using PCA: \n",
    "\n",
    "k = 1, Accuracy = 0.46714285714285714, mAP = 0.46714285714285714\n",
    "\n",
    "k = 5, Accuracy = 0.6757142857142857, mAP = 0.5285400432900433\n",
    "\n",
    "k = 10, Accuracy = 0.7485714285714286, mAP = 0.5152942434549578"
   ]
  },
  {
   "cell_type": "markdown",
   "metadata": {},
   "source": [
    "## K-means"
   ]
  },
  {
   "cell_type": "code",
   "execution_count": 67,
   "metadata": {},
   "outputs": [],
   "source": [
    "def img_indices_in_cluster(c, index_and_cluster): \n",
    "    gallery_indices_in_cluster = [pair[0] for pair in index_and_cluster if pair[1] == c]\n",
    "    return gallery_indices_in_cluster\n",
    "\n",
    "def img_cluster(k, N, c_g_indices, query_index, index):\n",
    "    list_of_truths = []\n",
    "    neigh = NearestNeighbors(n_neighbors=N, n_jobs=-1, metric='euclidean')\n",
    "    neigh.fit(features_np[c_g_indices])   #new_gallery_labels)\n",
    "    N_distances, N_indices = neigh.kneighbors(query_images[index].reshape(1, -1))\n",
    "    topN_c_g_indices = (gallery_indices[N_indices[0]]).tolist()\n",
    "    reduced_topN_labels = remove_indices(topN_c_g_indices, query_index)\n",
    "    #print(query_labels[index][0], reduced_topN_labels[:k])\n",
    "    return reduced_topN_labels\n",
    "    return (query_labels[index][0] in reduced_topN_labels[:k])\n",
    "\n",
    "def knn_clustering(k, N, index_and_cluster):\n",
    "    class_success = []\n",
    "    start = time.time() #time tracking - start time of process\n",
    "    all_reduced_topN_labels = []\n",
    "    for index, query_index in enumerate(query_indices.tolist()):\n",
    "        if (index % 200 == 0):\n",
    "            print(\"Index: \", index, \" & time taken: \", time.time() - start)\n",
    "        cluster = kmeans.predict(query_images[index].reshape(1,-1))\n",
    "        cluster_gallery_indices = img_indices_in_cluster(cluster, index_and_cluster)\n",
    "        reduced_topN_labels = img_cluster(k, N, cluster_gallery_indices, query_index, index)\n",
    "        all_reduced_topN_labels.append(reduced_topN_labels)\n",
    "        #class_success.append(img_cluster(k, N, cluster_gallery_indices, query_index, index))\n",
    "    return all_reduced_topN_labels\n",
    "    #over-all accuracy\n",
    "    acc = sum(class_success)/len(class_success)\n",
    "    print(acc)\n",
    "    return acc"
   ]
  },
  {
   "cell_type": "code",
   "execution_count": null,
   "metadata": {},
   "outputs": [],
   "source": [
    "all_accs = calc_acc_all_k(all_reduced_topN_labels, query_labels, 101)\n",
    "print(all_accs)"
   ]
  },
  {
   "cell_type": "code",
   "execution_count": 109,
   "metadata": {},
   "outputs": [
    {
     "name": "stdout",
     "output_type": "stream",
     "text": [
      "Index:  0  & time taken:  0.0\n",
      "Index:  200  & time taken:  223.8059160709381\n",
      "Index:  400  & time taken:  579.8530704975128\n",
      "Index:  600  & time taken:  880.2893407344818\n",
      "Index:  800  & time taken:  1203.3730905056\n",
      "Index:  1000  & time taken:  1401.2129628658295\n",
      "Index:  1200  & time taken:  1530.7014179229736\n",
      "[0.0, 0.0007142857142857143, 0.0007142857142857143, 0.0007142857142857143, 0.0007142857142857143, 0.0007142857142857143, 0.002142857142857143, 0.004285714285714286, 0.005714285714285714, 0.005714285714285714, 0.0064285714285714285, 0.0064285714285714285, 0.0064285714285714285, 0.007142857142857143, 0.007857142857142858, 0.007857142857142858, 0.007857142857142858, 0.007857142857142858, 0.008571428571428572, 0.008571428571428572, 0.009285714285714286, 0.009285714285714286, 0.009285714285714286, 0.01, 0.01, 0.01, 0.010714285714285714, 0.010714285714285714, 0.011428571428571429, 0.011428571428571429, 0.011428571428571429, 0.012142857142857143, 0.012857142857142857, 0.012857142857142857, 0.013571428571428571, 0.013571428571428571, 0.013571428571428571, 0.013571428571428571, 0.013571428571428571, 0.013571428571428571, 0.013571428571428571, 0.013571428571428571, 0.013571428571428571, 0.014285714285714285, 0.014285714285714285, 0.014285714285714285, 0.014285714285714285, 0.015, 0.015714285714285715, 0.016428571428571428, 0.016428571428571428, 0.017142857142857144, 0.017142857142857144, 0.017857142857142856, 0.017857142857142856, 0.017857142857142856, 0.017857142857142856, 0.018571428571428572, 0.018571428571428572, 0.019285714285714285, 0.02, 0.020714285714285713, 0.02142857142857143, 0.02142857142857143, 0.02142857142857143, 0.02142857142857143, 0.023571428571428573, 0.023571428571428573, 0.023571428571428573, 0.023571428571428573, 0.024285714285714285, 0.024285714285714285, 0.024285714285714285, 0.025, 0.025, 0.025714285714285714, 0.025714285714285714, 0.025714285714285714, 0.02642857142857143, 0.02642857142857143, 0.027142857142857142, 0.027142857142857142, 0.027142857142857142, 0.027142857142857142, 0.027142857142857142, 0.027142857142857142, 0.027142857142857142, 0.027142857142857142, 0.027142857142857142, 0.027142857142857142, 0.027142857142857142, 0.027142857142857142, 0.027857142857142858, 0.027857142857142858, 0.02857142857142857, 0.02857142857142857, 0.029285714285714286, 0.029285714285714286, 0.03, 0.03]\n"
     ]
    }
   ],
   "source": [
    "total_number_of_labels = len(np.unique(gallery_labels.flatten()))\n",
    "\n",
    "acc_kmeans_new_2 = []\n",
    "clusters_2 = [20]\n",
    "for n_clusters in clusters_2:\n",
    "    kmeans = KMeans(n_clusters=n_clusters, random_state=0)\n",
    "    kmeans.fit(gallery_images)\n",
    "    index_and_cluster = [(index, label) for index, label in zip(gallery_indices, kmeans.labels_)]\n",
    "    N = 110\n",
    "    all_reduced_topN_labels_clustering = knn_clustering(10, N, index_and_cluster)\n",
    "    all_accs_cluster = calc_acc_all_k(all_reduced_topN_labels_clustering, query_labels, 101)\n",
    "    acc_kmeans_new_2.append(all_accs_cluster)\n",
    "    print(all_accs_cluster)"
   ]
  },
  {
   "cell_type": "code",
   "execution_count": 110,
   "metadata": {},
   "outputs": [
    {
     "data": {
      "text/plain": [
       "4"
      ]
     },
     "execution_count": 110,
     "metadata": {},
     "output_type": "execute_result"
    }
   ],
   "source": [
    "len(acc_kmeans_new)"
   ]
  },
  {
   "cell_type": "code",
   "execution_count": 124,
   "metadata": {},
   "outputs": [
    {
     "data": {
      "image/png": "[encoded data removed]",
      "text/plain": [
       "<matplotlib.figure.Figure at 0x203125097f0>"
      ]
     },
     "metadata": {},
     "output_type": "display_data"
    }
   ],
   "source": [
    "#plot kmeans results graph (acc vs k for different values of n_clusters)\n",
    "total_number_of_labels = len(np.unique(gallery_labels.flatten()))\n",
    "clusters = [1, 2, 3, 5, 20]\n",
    "\n",
    "acc_kmeans = acc_kmeans_new + acc_kmeans_new_2\n",
    "def plot_kmeans_results(fileName, acc_kmeans):\n",
    "    fig = plt.figure()\n",
    "    acc_kmeans = np.array(acc_kmeans)\n",
    "    for all_accs in acc_kmeans:\n",
    "        plt.plot(range(1, len(all_accs)+1), all_accs*100)\n",
    "    \n",
    "    plt.xlabel('Number of nearest neighbours considered ($k$)')\n",
    "    plt.ylabel('Accuracy (%)')\n",
    "    #plt.title('Accuracy for varying $k$')\n",
    "    #plt.grid(b=True, which='both')\n",
    "    plt.legend(clusters,  title=\"n_clusters\", loc=\"upper right\")\n",
    "    \n",
    "    \n",
    "    plt.savefig(fileName + '.png', bbox_inches='tight', dpi=300)\n",
    "    plt.show()\n",
    "    \n",
    "plot_kmeans_results('acc_kmeans_new', acc_kmeans)"
   ]
  },
  {
   "cell_type": "code",
   "execution_count": 29,
   "metadata": {},
   "outputs": [
    {
     "data": {
      "text/plain": [
       "700"
      ]
     },
     "execution_count": 29,
     "metadata": {},
     "output_type": "execute_result"
    }
   ],
   "source": [
    "total_number_of_labels"
   ]
  },
  {
   "cell_type": "code",
   "execution_count": 158,
   "metadata": {},
   "outputs": [
    {
     "name": "stdout",
     "output_type": "stream",
     "text": [
      "Index:  0  & time taken:  5.2928924560546875e-05\n",
      "Index:  200  & time taken:  31.98020100593567\n",
      "Index:  400  & time taken:  60.46903991699219\n",
      "Index:  600  & time taken:  91.8608329296112\n",
      "0.0\n",
      "Index:  0  & time taken:  0.00010395050048828125\n",
      "Index:  200  & time taken:  31.05888295173645\n",
      "Index:  400  & time taken:  58.93773698806763\n",
      "Index:  600  & time taken:  90.08086109161377\n",
      "0.002857142857142857\n",
      "Index:  0  & time taken:  0.00021696090698242188\n",
      "Index:  200  & time taken:  31.06084704399109\n",
      "Index:  400  & time taken:  59.05705428123474\n",
      "Index:  600  & time taken:  89.93986010551453\n",
      "0.005714285714285714\n",
      "Index:  0  & time taken:  6.794929504394531e-05\n"
     ]
    },
    {
     "ename": "ValueError",
     "evalue": "Expected n_neighbors <= n_samples,  but n_samples = 3, n_neighbors = 20",
     "output_type": "error",
     "traceback": [
      "\u001b[0;31m---------------------------------------------------------------------------\u001b[0m",
      "\u001b[0;31mValueError\u001b[0m                                Traceback (most recent call last)",
      "\u001b[0;32m<ipython-input-158-5c181313d687>\u001b[0m in \u001b[0;36m<module>\u001b[0;34m\u001b[0m\n\u001b[1;32m      9\u001b[0m     \u001b[0mN\u001b[0m \u001b[0;34m=\u001b[0m \u001b[0;36m20\u001b[0m\u001b[0;34m\u001b[0m\u001b[0m\n\u001b[1;32m     10\u001b[0m     \u001b[0;32mfor\u001b[0m \u001b[0mk_val\u001b[0m \u001b[0;32min\u001b[0m \u001b[0mk\u001b[0m\u001b[0;34m:\u001b[0m\u001b[0;34m\u001b[0m\u001b[0m\n\u001b[0;32m---> 11\u001b[0;31m         \u001b[0macc_kmeans2\u001b[0m\u001b[0;34m.\u001b[0m\u001b[0mappend\u001b[0m\u001b[0;34m(\u001b[0m\u001b[0mknn_clustering\u001b[0m\u001b[0;34m(\u001b[0m\u001b[0mk_val\u001b[0m\u001b[0;34m,\u001b[0m \u001b[0mN\u001b[0m\u001b[0;34m,\u001b[0m \u001b[0mindex_and_cluster\u001b[0m\u001b[0;34m)\u001b[0m\u001b[0;34m)\u001b[0m\u001b[0;34m\u001b[0m\u001b[0m\n\u001b[0m",
      "\u001b[0;32m<ipython-input-157-5e27242e27ca>\u001b[0m in \u001b[0;36mknn_clustering\u001b[0;34m(k, N, index_and_cluster)\u001b[0m\n\u001b[1;32m     20\u001b[0m         \u001b[0mcluster\u001b[0m \u001b[0;34m=\u001b[0m \u001b[0mkmeans\u001b[0m\u001b[0;34m.\u001b[0m\u001b[0mpredict\u001b[0m\u001b[0;34m(\u001b[0m\u001b[0mquery_images\u001b[0m\u001b[0;34m[\u001b[0m\u001b[0mindex\u001b[0m\u001b[0;34m]\u001b[0m\u001b[0;34m.\u001b[0m\u001b[0mreshape\u001b[0m\u001b[0;34m(\u001b[0m\u001b[0;36m1\u001b[0m\u001b[0;34m,\u001b[0m\u001b[0;34m-\u001b[0m\u001b[0;36m1\u001b[0m\u001b[0;34m)\u001b[0m\u001b[0;34m)\u001b[0m\u001b[0;34m\u001b[0m\u001b[0m\n\u001b[1;32m     21\u001b[0m         \u001b[0mcluster_gallery_indices\u001b[0m \u001b[0;34m=\u001b[0m \u001b[0mimg_indices_in_cluster\u001b[0m\u001b[0;34m(\u001b[0m\u001b[0mcluster\u001b[0m\u001b[0;34m,\u001b[0m \u001b[0mindex_and_cluster\u001b[0m\u001b[0;34m)\u001b[0m\u001b[0;34m\u001b[0m\u001b[0m\n\u001b[0;32m---> 22\u001b[0;31m         \u001b[0mclass_success\u001b[0m\u001b[0;34m.\u001b[0m\u001b[0mappend\u001b[0m\u001b[0;34m(\u001b[0m\u001b[0mimg_cluster\u001b[0m\u001b[0;34m(\u001b[0m\u001b[0mk\u001b[0m\u001b[0;34m,\u001b[0m \u001b[0mN\u001b[0m\u001b[0;34m,\u001b[0m \u001b[0mcluster_gallery_indices\u001b[0m\u001b[0;34m,\u001b[0m \u001b[0mquery_index\u001b[0m\u001b[0;34m,\u001b[0m \u001b[0mindex\u001b[0m\u001b[0;34m)\u001b[0m\u001b[0;34m)\u001b[0m\u001b[0;34m\u001b[0m\u001b[0m\n\u001b[0m\u001b[1;32m     23\u001b[0m \u001b[0;34m\u001b[0m\u001b[0m\n\u001b[1;32m     24\u001b[0m     \u001b[0;31m#over-all accuracy\u001b[0m\u001b[0;34m\u001b[0m\u001b[0;34m\u001b[0m\u001b[0m\n",
      "\u001b[0;32m<ipython-input-157-5e27242e27ca>\u001b[0m in \u001b[0;36mimg_cluster\u001b[0;34m(k, N, c_g_indices, query_index, index)\u001b[0m\n\u001b[1;32m      7\u001b[0m     \u001b[0mneigh\u001b[0m \u001b[0;34m=\u001b[0m \u001b[0mNearestNeighbors\u001b[0m\u001b[0;34m(\u001b[0m\u001b[0mn_neighbors\u001b[0m\u001b[0;34m=\u001b[0m\u001b[0mN\u001b[0m\u001b[0;34m,\u001b[0m \u001b[0mn_jobs\u001b[0m\u001b[0;34m=\u001b[0m\u001b[0;34m-\u001b[0m\u001b[0;36m1\u001b[0m\u001b[0;34m,\u001b[0m \u001b[0mmetric\u001b[0m\u001b[0;34m=\u001b[0m\u001b[0;34m'euclidean'\u001b[0m\u001b[0;34m)\u001b[0m\u001b[0;34m\u001b[0m\u001b[0m\n\u001b[1;32m      8\u001b[0m     \u001b[0mneigh\u001b[0m\u001b[0;34m.\u001b[0m\u001b[0mfit\u001b[0m\u001b[0;34m(\u001b[0m\u001b[0mfeatures_np\u001b[0m\u001b[0;34m[\u001b[0m\u001b[0mc_g_indices\u001b[0m\u001b[0;34m]\u001b[0m\u001b[0;34m)\u001b[0m   \u001b[0;31m#new_gallery_labels)\u001b[0m\u001b[0;34m\u001b[0m\u001b[0m\n\u001b[0;32m----> 9\u001b[0;31m     \u001b[0mN_distances\u001b[0m\u001b[0;34m,\u001b[0m \u001b[0mN_indices\u001b[0m \u001b[0;34m=\u001b[0m \u001b[0mneigh\u001b[0m\u001b[0;34m.\u001b[0m\u001b[0mkneighbors\u001b[0m\u001b[0;34m(\u001b[0m\u001b[0mquery_images\u001b[0m\u001b[0;34m[\u001b[0m\u001b[0mindex\u001b[0m\u001b[0;34m]\u001b[0m\u001b[0;34m.\u001b[0m\u001b[0mreshape\u001b[0m\u001b[0;34m(\u001b[0m\u001b[0;36m1\u001b[0m\u001b[0;34m,\u001b[0m \u001b[0;34m-\u001b[0m\u001b[0;36m1\u001b[0m\u001b[0;34m)\u001b[0m\u001b[0;34m)\u001b[0m\u001b[0;34m\u001b[0m\u001b[0m\n\u001b[0m\u001b[1;32m     10\u001b[0m     \u001b[0mtopN_c_g_indices\u001b[0m \u001b[0;34m=\u001b[0m \u001b[0;34m(\u001b[0m\u001b[0mgallery_indices\u001b[0m\u001b[0;34m[\u001b[0m\u001b[0mN_indices\u001b[0m\u001b[0;34m[\u001b[0m\u001b[0;36m0\u001b[0m\u001b[0;34m]\u001b[0m\u001b[0;34m]\u001b[0m\u001b[0;34m)\u001b[0m\u001b[0;34m.\u001b[0m\u001b[0mtolist\u001b[0m\u001b[0;34m(\u001b[0m\u001b[0;34m)\u001b[0m\u001b[0;34m\u001b[0m\u001b[0m\n\u001b[1;32m     11\u001b[0m     \u001b[0mreduced_topN_labels\u001b[0m \u001b[0;34m=\u001b[0m \u001b[0mremove_indices\u001b[0m\u001b[0;34m(\u001b[0m\u001b[0mtopN_c_g_indices\u001b[0m\u001b[0;34m,\u001b[0m \u001b[0mquery_index\u001b[0m\u001b[0;34m)\u001b[0m\u001b[0;34m\u001b[0m\u001b[0m\n",
      "\u001b[0;32m/Library/Frameworks/Python.framework/Versions/3.6/lib/python3.6/site-packages/sklearn/neighbors/base.py\u001b[0m in \u001b[0;36mkneighbors\u001b[0;34m(self, X, n_neighbors, return_distance)\u001b[0m\n\u001b[1;32m    345\u001b[0m                 \u001b[0;34m\"Expected n_neighbors <= n_samples, \"\u001b[0m\u001b[0;34m\u001b[0m\u001b[0m\n\u001b[1;32m    346\u001b[0m                 \u001b[0;34m\" but n_samples = %d, n_neighbors = %d\"\u001b[0m \u001b[0;34m%\u001b[0m\u001b[0;34m\u001b[0m\u001b[0m\n\u001b[0;32m--> 347\u001b[0;31m                 \u001b[0;34m(\u001b[0m\u001b[0mtrain_size\u001b[0m\u001b[0;34m,\u001b[0m \u001b[0mn_neighbors\u001b[0m\u001b[0;34m)\u001b[0m\u001b[0;34m\u001b[0m\u001b[0m\n\u001b[0m\u001b[1;32m    348\u001b[0m             )\n\u001b[1;32m    349\u001b[0m         \u001b[0mn_samples\u001b[0m\u001b[0;34m,\u001b[0m \u001b[0m_\u001b[0m \u001b[0;34m=\u001b[0m \u001b[0mX\u001b[0m\u001b[0;34m.\u001b[0m\u001b[0mshape\u001b[0m\u001b[0;34m\u001b[0m\u001b[0m\n",
      "\u001b[0;31mValueError\u001b[0m: Expected n_neighbors <= n_samples,  but n_samples = 3, n_neighbors = 20"
     ]
    }
   ],
   "source": [
    "total_number_of_labels = len(np.unique(gallery_labels.flatten()))\n",
    "acc_kmeans2 = []\n",
    "clusters = [100, total_number_of_labels]\n",
    "for n_clusters in clusters:\n",
    "    kmeans = KMeans(n_clusters=n_clusters, random_state=0)\n",
    "    kmeans.fit(gallery_images)\n",
    "    index_and_cluster = [(index, label) for index, label in zip(gallery_indices, kmeans.labels_)]\n",
    "    k = [1, 5, 10]\n",
    "    N = 20\n",
    "    for k_val in k:\n",
    "        acc_kmeans2.append(knn_clustering(k_val, N, index_and_cluster)) "
   ]
  },
  {
   "cell_type": "markdown",
   "metadata": {},
   "source": [
    "### Atttempt 1: Mahalanobis Distance Using metric_learn"
   ]
  },
  {
   "cell_type": "code",
   "execution_count": 26,
   "metadata": {},
   "outputs": [],
   "source": [
    "#S = np.cov(np.transpose(training_images))\n",
    "#A = np.linalg.inv(S)"
   ]
  },
  {
   "cell_type": "code",
   "execution_count": 22,
   "metadata": {},
   "outputs": [],
   "source": [
    "def knn_maha(k, N):   \n",
    "    start = time.time() #time tracking - start time of process\n",
    "    lmnn = metric_learn.LMNN(k=k)\n",
    "    # fit the data!\n",
    "    lmnn.fit(reduced_training_images, training_labels) #reduced_dim_training_images\n",
    "    # transform our input space\n",
    "    A = lmnn.metric()\n",
    "    S = np.linalg.inv(A)\n",
    "\n",
    "    list_of_truths = []\n",
    "    i = 0\n",
    "    AP_vals = []\n",
    "    for q_index, q_image in zip(query_indices, reduced_query_images): \n",
    "        if (i % 100 == 0):\n",
    "            print(\"Index: \", i, \" & time taken: \", time.time() - start)\n",
    "        query_distances = []\n",
    "        for g_index, g_image in zip(gallery_indices, reduced_gallery_images): \n",
    "            image_diff = q_image - g_image\n",
    "            query_distances.append(tuple([g_index, np.linalg.multi_dot([np.transpose(image_diff), S, image_diff])]))\n",
    "        query_distances_sorted = sorted(query_distances,key=lambda x:(x[1]))\n",
    "        N_gallery_indices = [tup[0] for tup in query_distances_sorted][:N]\n",
    "        reduced_N_gallery_labels = remove_indices(N_gallery_indices, q_index)\n",
    "        if query_labels[i][0] in reduced_N_gallery_labels[:k]:\n",
    "            list_of_truths.append(True)\n",
    "        else:\n",
    "            list_of_truths.append(False)\n",
    "        AP = calcAP(query_labels[i][0], reduced_N_gallery_labels[:k])\n",
    "        AP_vals.append(AP)\n",
    "        i +=1\n",
    "    acc = sum(list_of_truths)/len(list_of_truths) \n",
    "    return acc, np.mean(AP_vals)"
   ]
  },
  {
   "cell_type": "code",
   "execution_count": 151,
   "metadata": {},
   "outputs": [
    {
     "name": "stdout",
     "output_type": "stream",
     "text": [
      "For rank  1 : \n",
      "Index:  0  & time taken:  5.427803039550781\n"
     ]
    },
    {
     "name": "stderr",
     "output_type": "stream",
     "text": [
      "/Library/Frameworks/Python.framework/Versions/3.6/lib/python3.6/site-packages/ipykernel_launcher.py:12: RuntimeWarning: invalid value encountered in long_scalars\n",
      "  if sys.path[0] == '':\n"
     ]
    },
    {
     "name": "stdout",
     "output_type": "stream",
     "text": [
      "Index:  100  & time taken:  13.546617984771729\n",
      "Index:  200  & time taken:  21.883944988250732\n",
      "Index:  300  & time taken:  29.981092929840088\n",
      "Index:  400  & time taken:  38.06189799308777\n",
      "Index:  500  & time taken:  46.22734594345093\n",
      "Index:  600  & time taken:  54.30570983886719\n",
      "Index:  700  & time taken:  62.39797401428223\n",
      "Index:  800  & time taken:  70.60209202766418\n",
      "Index:  900  & time taken:  78.81504797935486\n",
      "Index:  1000  & time taken:  86.92118906974792\n",
      "Index:  1100  & time taken:  96.24939298629761\n",
      "Index:  1200  & time taken:  104.35860800743103\n",
      "Index:  1300  & time taken:  112.7339038848877\n",
      "(1, 0.13, 0.13)\n",
      "For rank  5 : \n",
      "Index:  0  & time taken:  5.489860773086548\n",
      "Index:  100  & time taken:  13.865935802459717\n",
      "Index:  200  & time taken:  22.857558965682983\n",
      "Index:  300  & time taken:  32.80487608909607\n",
      "Index:  400  & time taken:  40.977351903915405\n",
      "Index:  500  & time taken:  49.45302486419678\n",
      "Index:  600  & time taken:  57.52837085723877\n",
      "Index:  700  & time taken:  66.459969997406\n",
      "Index:  800  & time taken:  75.50546193122864\n",
      "Index:  900  & time taken:  86.02947783470154\n",
      "Index:  1000  & time taken:  94.14292407035828\n",
      "Index:  1100  & time taken:  102.21371293067932\n",
      "Index:  1200  & time taken:  110.26887702941895\n",
      "Index:  1300  & time taken:  118.3265528678894\n",
      "(5, 0.2692857142857143, 0.19095995670995672)\n"
     ]
    }
   ],
   "source": [
    "k = [1, 5]\n",
    "N = 50\n",
    "results3 = []\n",
    "for k_val in k: \n",
    "    print(\"For rank \", k_val, \": \")\n",
    "    accuracy, mAP = knn_maha(k_val, N)\n",
    "    tup = (k_val, accuracy, mAP)\n",
    "    results3.append(tup)\n",
    "    print(tup)"
   ]
  },
  {
   "cell_type": "markdown",
   "metadata": {},
   "source": [
    "### Attempt 2: Mahalanobis Distance Using Cdist"
   ]
  },
  {
   "cell_type": "code",
   "execution_count": 29,
   "metadata": {},
   "outputs": [],
   "source": [
    "A = np.cov(np.transpose(reduced_training_images))\n",
    "S = np.linalg.inv(A)"
   ]
  },
  {
   "cell_type": "code",
   "execution_count": 31,
   "metadata": {},
   "outputs": [
    {
     "data": {
      "text/plain": [
       "array([-6.73318295e-18,  8.42948647e-18,  1.59285881e-17,  5.17631784e-18,\n",
       "        8.08598053e-17,  8.76558431e-17, -4.45082302e-17,  6.10877307e-17,\n",
       "       -1.02419340e-17,  2.07853845e-18,  4.58232988e-17,  6.90145146e-17,\n",
       "       -7.67797610e-17,  1.05952934e-16,  8.26733630e-17,  1.04370338e-17,\n",
       "       -9.97183113e-17, -1.08359294e-16,  2.19844607e-18,  7.76907396e-17,\n",
       "        5.84869908e-17,  7.75178117e-17, -6.93212135e-17,  1.66227603e-18,\n",
       "        1.05406470e-17,  3.54971934e-17,  7.08191954e-17,  5.46658371e-17,\n",
       "       -6.85957745e-17,  4.73564427e-18,  5.78131575e-17, -1.03455846e-16,\n",
       "        4.50722372e-17,  1.31305740e-17, -3.45493297e-17, -3.47412418e-17,\n",
       "        8.93555112e-17, -4.83408079e-17, -1.01824116e-17,  2.08939439e-17,\n",
       "        1.05592654e-16, -1.33804540e-16,  1.68377273e-17,  5.18823937e-16,\n",
       "       -8.38386163e-17, -1.62452481e-16,  1.36381261e-16, -4.31982398e-16,\n",
       "        5.30769313e-17, -9.80157446e-17, -1.56512236e-17,  3.35901180e-16,\n",
       "       -1.34501166e-16,  3.44691170e-16, -4.12382106e-16,  7.64096159e-17,\n",
       "       -5.02687938e-16,  6.41879482e-16,  6.74493382e-16,  3.29735174e-16,\n",
       "       -6.31246005e-16, -2.48505532e-17, -4.94538152e-15,  1.50105205e-16,\n",
       "       -3.07623039e-17, -6.62741776e-17,  3.81907648e-16, -2.03011386e-16,\n",
       "        3.45816709e-16, -7.24846780e-17, -2.41272836e-16,  1.30266722e-15,\n",
       "        5.91186847e-16, -8.75824533e-17,  2.14683958e-16, -3.03305790e-17,\n",
       "       -1.34463844e-16,  8.40396773e-17,  4.54415345e-16,  4.84671955e-16,\n",
       "        5.63882753e-16,  3.62231006e-16,  5.00772436e-16, -4.30980490e-16,\n",
       "        2.54510926e-16,  5.97050601e-16, -1.23891392e-16, -7.77565799e-17,\n",
       "       -4.62120235e-16,  7.42521755e-16,  8.71646740e-16, -6.94991915e-16,\n",
       "       -1.12779053e-15, -5.85343641e-16, -6.45115043e-16, -1.24781855e-15,\n",
       "       -2.42484641e-16,  3.18332951e-16, -1.15030076e-16,  2.79302961e+00])"
      ]
     },
     "execution_count": 31,
     "metadata": {},
     "output_type": "execute_result"
    }
   ],
   "source": [
    "S[-1] #all features after PCA are independant \n",
    "#covariance matrix A/S gives us 0 on everything except of the diagonal \n",
    "#mahalanobis distance is only useful when features are dependant (why?). whereas, in our case, they are independant. "
   ]
  },
  {
   "cell_type": "code",
   "execution_count": null,
   "metadata": {},
   "outputs": [],
   "source": [
    "distance_matrix = cdist(reduced_query_images, reduced_gallery_images, 'mahalanobis', VI=S)\n",
    "distance_matrix.shape #rows represent query images, columns represent gallery images"
   ]
  },
  {
   "cell_type": "code",
   "execution_count": 33,
   "metadata": {},
   "outputs": [],
   "source": [
    "def add_gallery_indices_to_distance_matrix(distance_matrix):\n",
    "    new_array = np.zeros((5328,1400),dtype=object)  \n",
    "    distance_matrix2 = []\n",
    "    for g_index, g_row in enumerate(distance_matrix.T): \n",
    "        for q_index, val in enumerate(g_row):\n",
    "            tup1 = tuple([gallery_indices[g_index], val])\n",
    "            new_array[g_index][q_index] = tup1\n",
    "    return new_array\n",
    "\n",
    "def calculate_accuracy_from_distance_matrix(new_array, k, N):\n",
    "    list_of_truths = []\n",
    "    for q_index, column in enumerate(new_array.T):\n",
    "        query_distances_sorted = sorted(column,key=lambda x:(x[1]))\n",
    "        N_gallery_indices = [tup[0] for tup in query_distances_sorted][:N]\n",
    "        reduced_N_gallery_labels = remove_indices(N_gallery_indices, query_indices[q_index])\n",
    "        if query_labels[q_index][0] in reduced_N_gallery_labels[:k]:\n",
    "            list_of_truths.append(True)\n",
    "        else:\n",
    "            list_of_truths.append(False)\n",
    "    acc = sum(list_of_truths)/len(list_of_truths) \n",
    "    return acc\n",
    "\n",
    "def calc_acc_maha(k, N, distance_matrix): \n",
    "    arr = add_gallery_indices_to_distance_matrix(distance_matrix)\n",
    "    acc = calculate_accuracy_from_distance_matrix(arr, k, N)\n",
    "    return acc"
   ]
  },
  {
   "cell_type": "code",
   "execution_count": 226,
   "metadata": {},
   "outputs": [
    {
     "name": "stdout",
     "output_type": "stream",
     "text": [
      "0.41785714285714287\n"
     ]
    }
   ],
   "source": [
    "k = 1\n",
    "N = 50\n",
    "print(calc_acc_maha(k, N, distance_matrix))"
   ]
  },
  {
   "cell_type": "code",
   "execution_count": 227,
   "metadata": {},
   "outputs": [
    {
     "name": "stdout",
     "output_type": "stream",
     "text": [
      "0.6221428571428571\n"
     ]
    }
   ],
   "source": [
    "k = 5\n",
    "N = 50\n",
    "print(calc_acc_maha(k, N, distance_matrix))"
   ]
  },
  {
   "cell_type": "code",
   "execution_count": 228,
   "metadata": {},
   "outputs": [
    {
     "name": "stdout",
     "output_type": "stream",
     "text": [
      "0.7028571428571428\n"
     ]
    }
   ],
   "source": [
    "k = 10\n",
    "N = 50\n",
    "print(calc_acc_maha(k, N, distance_matrix))"
   ]
  },
  {
   "cell_type": "markdown",
   "metadata": {},
   "source": [
    "### Attempt 3: Getting distances using kNN and Mahalanobis Distance"
   ]
  },
  {
   "cell_type": "code",
   "execution_count": 31,
   "metadata": {},
   "outputs": [
    {
     "data": {
      "text/plain": [
       "NearestNeighbors(algorithm='auto', leaf_size=30, metric='mahalanobis',\n",
       "         metric_params={'V': array([[ 0.12217,  0.00295, ..., -0.00943, -0.01215],\n",
       "       [ 0.00295,  0.23106, ...,  0.00179, -0.01196],\n",
       "       ...,\n",
       "       [-0.00943,  0.00179, ...,  0.32026,  0.09041],\n",
       "       [-0.01215, -0.01196, ...,  0.09041,  0.15056]])},\n",
       "         n_jobs=1, n_neighbors=100, p=2, radius=1.0)"
      ]
     },
     "execution_count": 31,
     "metadata": {},
     "output_type": "execute_result"
    }
   ],
   "source": [
    "N = 100\n",
    "neigh_md = NearestNeighbors(n_neighbors=N,metric='mahalanobis', \n",
    "            metric_params= {'V': np.cov(np.transpose(training_images))})\n",
    "neigh_md.fit(gallery_images) "
   ]
  },
  {
   "cell_type": "code",
   "execution_count": 117,
   "metadata": {},
   "outputs": [],
   "source": [
    "def get_accuracy_mahalanobi(k, N):\n",
    "    list_of_truths = []\n",
    "    start = time.time() #time tracking - start time of process\n",
    "    for index, query_index in enumerate(train_idxs['query_idx'].flatten().tolist()[:300]):\n",
    "        if (index % 50 == 0):\n",
    "            print(\"Index: \", index, \" & time taken: \", time.time() - start)\n",
    "        N_distances, N_indices = neigh_md.kneighbors(query_images[index].reshape(1, 2048), N)\n",
    "        topN_gallery_images = gallery_images[N_indices[0]]\n",
    "        forLoopStart = time.time()\n",
    "        topN_gallery_indices = train_idxs['gallery_idx'][N_indices[0]].flatten().tolist()\n",
    "        reduced_topN_indices, reduced_topN_labels = remove_indices(topN_gallery_indices, query_index)\n",
    "        if query_labels[index][0] in reduced_topN_labels[:k]:\n",
    "            list_of_truths.append(True)\n",
    "        else:\n",
    "            list_of_truths.append(False)\n",
    "    #over-all accuracy  \n",
    "    acc = sum(list_of_truths)/len(list_of_truths)\n",
    "    print(\"Avg Accuracy is: \", acc)\n",
    "    return acc"
   ]
  },
  {
   "cell_type": "code",
   "execution_count": 118,
   "metadata": {},
   "outputs": [
    {
     "name": "stdout",
     "output_type": "stream",
     "text": [
      "Index:  0  & time taken:  8.082389831542969e-05\n",
      "Index:  50  & time taken:  1194.6821658611298\n",
      "Index:  100  & time taken:  2801.5326719284058\n",
      "Index:  150  & time taken:  4013.9011237621307\n",
      "Index:  200  & time taken:  5203.121114730835\n",
      "Index:  250  & time taken:  6391.557485818863\n",
      "Avg Accuracy is:  0.13666666666666666\n",
      "Index:  0  & time taken:  7.224082946777344e-05\n",
      "Index:  50  & time taken:  1187.0171492099762\n",
      "Index:  100  & time taken:  2373.66286110878\n",
      "Index:  150  & time taken:  3560.3639900684357\n",
      "Index:  200  & time taken:  4746.637277126312\n",
      "Index:  250  & time taken:  5932.8617470264435\n",
      "Avg Accuracy is:  0.2833333333333333\n",
      "Index:  0  & time taken:  9.083747863769531e-05\n",
      "Index:  50  & time taken:  1186.3573276996613\n",
      "Index:  100  & time taken:  2372.715752840042\n",
      "Index:  150  & time taken:  3559.498749732971\n",
      "Index:  200  & time taken:  4745.957722663879\n",
      "Index:  250  & time taken:  5932.393654823303\n",
      "Avg Accuracy is:  0.4533333333333333\n"
     ]
    }
   ],
   "source": [
    "N = 100\n",
    "k = [1, 10, 100]\n",
    "acc_k2 = []\n",
    "for k_val in k: \n",
    "    acc = get_accuracy_mahalanobi(k_val, N)\n",
    "    acc_k2.append(acc)"
   ]
  },
  {
   "cell_type": "code",
   "execution_count": 119,
   "metadata": {},
   "outputs": [
    {
     "data": {
      "text/plain": [
       "[0.13666666666666666, 0.2833333333333333, 0.4533333333333333]"
      ]
     },
     "execution_count": 119,
     "metadata": {},
     "output_type": "execute_result"
    }
   ],
   "source": [
    "acc_k2"
   ]
  },
  {
   "cell_type": "markdown",
   "metadata": {},
   "source": [
    "### Cosine Distance"
   ]
  },
  {
   "cell_type": "code",
   "execution_count": 120,
   "metadata": {},
   "outputs": [
    {
     "data": {
      "text/plain": [
       "NearestNeighbors(algorithm='auto', leaf_size=30, metric='cosine',\n",
       "         metric_params=None, n_jobs=1, n_neighbors=100, p=2, radius=1.0)"
      ]
     },
     "execution_count": 120,
     "metadata": {},
     "output_type": "execute_result"
    }
   ],
   "source": [
    "N = 100\n",
    "neigh_c = NearestNeighbors(n_neighbors=N,metric='cosine')\n",
    "neigh_c.fit(gallery_images) "
   ]
  },
  {
   "cell_type": "code",
   "execution_count": 126,
   "metadata": {},
   "outputs": [
    {
     "name": "stdout",
     "output_type": "stream",
     "text": [
      "Index:  0  & time taken:  7.700920104980469e-05\n",
      "Index:  50  & time taken:  4.227119207382202\n",
      "Index:  100  & time taken:  8.423174142837524\n",
      "Index:  150  & time taken:  12.630351066589355\n",
      "Index:  200  & time taken:  16.83267116546631\n",
      "Index:  250  & time taken:  21.04805612564087\n",
      "Avg Accuracy is:  0.49\n",
      "Index:  0  & time taken:  5.1975250244140625e-05\n",
      "Index:  50  & time taken:  4.1925787925720215\n",
      "Index:  100  & time taken:  8.413705825805664\n",
      "Index:  150  & time taken:  12.6040678024292\n",
      "Index:  200  & time taken:  16.792085886001587\n",
      "Index:  250  & time taken:  20.98653793334961\n",
      "Avg Accuracy is:  0.74\n",
      "Index:  0  & time taken:  5.3882598876953125e-05\n",
      "Index:  50  & time taken:  4.198216199874878\n",
      "Index:  100  & time taken:  8.467583894729614\n",
      "Index:  150  & time taken:  12.67863917350769\n",
      "Index:  200  & time taken:  16.884459972381592\n",
      "Index:  250  & time taken:  21.093831062316895\n",
      "Avg Accuracy is:  0.91\n"
     ]
    }
   ],
   "source": [
    "def get_acc_gen(k, N, index, query_index):\n",
    "    N_distances, N_indices = neigh_c.kneighbors(query_images[index].reshape(1, 2048), N)\n",
    "    topN_gallery_images = gallery_images[N_indices[0]]\n",
    "    forLoopStart = time.time()\n",
    "    topN_gallery_indices = train_idxs['gallery_idx'][N_indices[0]].flatten().tolist()\n",
    "    reduced_topN_indices, reduced_topN_labels = remove_indices(topN_gallery_indices, query_index)\n",
    "    return (query_labels[index][0] in reduced_topN_labels[:k])\n",
    "\n",
    "k = [1, 10, 100]\n",
    "acc_k3 = []\n",
    "for k_val in k:\n",
    "    list_of_truths = [] \n",
    "    start = time.time() #time tracking - start time of process\n",
    "    for index, query_index in enumerate(train_idxs['query_idx'].flatten().tolist()[:300]):\n",
    "        if (index % 50 == 0):\n",
    "            print(\"Index: \", index, \" & time taken: \", time.time() - start)\n",
    "        truth_false = get_acc_gen(k_val, N, index, query_index)\n",
    "        list_of_truths.append(truth_false)\n",
    "    acc = sum(list_of_truths)/len(list_of_truths)\n",
    "    print(\"Avg Accuracy is: \", acc)\n",
    "    acc_k3.append(acc)"
   ]
  },
  {
   "cell_type": "markdown",
   "metadata": {},
   "source": [
    "### Optimization "
   ]
  },
  {
   "cell_type": "code",
   "execution_count": 10,
   "metadata": {},
   "outputs": [
    {
     "data": {
      "text/plain": [
       "(1400, 5328)"
      ]
     },
     "execution_count": 10,
     "metadata": {},
     "output_type": "execute_result"
    }
   ],
   "source": [
    "S = np.linalg.inv(np.cov(np.transpose(reduced_training_images)))\n",
    "distance_matrix = cdist(reduced_query_images, reduced_gallery_images, 'mahalanobis', VI=S)\n",
    "distance_matrix.shape #rows represent query images, columns represent gallery images"
   ]
  },
  {
   "cell_type": "code",
   "execution_count": 10,
   "metadata": {},
   "outputs": [],
   "source": [
    "#What is the aggregate distance constraint? \n",
    "def loss_function():\n",
    "    y = np.zeros((1400, 5328),dtype=object) \n",
    "    for q_index, q_image in enumerate(reduced_query_images):\n",
    "        for g_index, g_image in enumerate(reduced_gallery_images):\n",
    "            if gallery_labels[g_index] == query_labels[q_index]: \n",
    "                y[q_index][g_index] = 1\n",
    "            else:\n",
    "                y[q_index][g_index] = 0\n",
    "    distances = []\n",
    "    for i in range(len(query_labels)):\n",
    "        agg_dist = np.dot(y[i, :],distance_matrix.T[:, i])\n",
    "        distances.append(agg_dist)\n",
    "    return sum(distances)\n",
    "\n",
    "#print(loss_function())"
   ]
  },
  {
   "cell_type": "code",
   "execution_count": 11,
   "metadata": {},
   "outputs": [],
   "source": [
    "def calculate_y(X, Y, X_labels, Y_labels):\n",
    "    y = np.zeros((len(X[:, 0]), len(Y[:, 0])),dtype=object) \n",
    "    for t1_index, t1_image in enumerate(X):\n",
    "        for t2_index, t2_image in enumerate(Y):\n",
    "            if X_labels[t1_index] == Y_labels[t2_index]: \n",
    "                y[t1_index][t2_index] = 1\n",
    "            else:\n",
    "                y[t1_index][t2_index] = 0\n",
    "    return y\n",
    "\n",
    "def loss_function_training(A):\n",
    "    distance_matrix_training = cdist(reduced_training_images, reduced_training_images, 'mahalanobis', VI=A)   \n",
    "    agg_dist = sum([np.dot(y_train[i, :],distance_matrix_training.T[:, i]) for i in range(len(training_labels))])\n",
    "    return agg_dist"
   ]
  },
  {
   "cell_type": "code",
   "execution_count": 12,
   "metadata": {},
   "outputs": [
    {
     "name": "stdout",
     "output_type": "stream",
     "text": [
      "1\n",
      "2\n",
      "345445.9685922416\n"
     ]
    }
   ],
   "source": [
    "print(loss_function_training(S))"
   ]
  },
  {
   "cell_type": "code",
   "execution_count": 12,
   "metadata": {},
   "outputs": [],
   "source": [
    "#training\n",
    "y_train = calculate_y(reduced_training_images, reduced_training_images, training_labels, training_labels)\n",
    "#y_test = calculate_y(reduced_query_images, reduced_gallery_images, query_labels, gallery_labels)"
   ]
  },
  {
   "cell_type": "code",
   "execution_count": 168,
   "metadata": {},
   "outputs": [
    {
     "ename": "SyntaxError",
     "evalue": "invalid syntax (<ipython-input-168-b03c08b33ca4>, line 2)",
     "output_type": "error",
     "traceback": [
      "\u001b[1;36m  File \u001b[1;32m\"<ipython-input-168-b03c08b33ca4>\"\u001b[1;36m, line \u001b[1;32m2\u001b[0m\n\u001b[1;33m    optimization_learning = minimize(loss_function_training, A0, method='CG', options={'maxiter': 1, 'disp' : b True})\u001b[0m\n\u001b[1;37m                                                                                                                   ^\u001b[0m\n\u001b[1;31mSyntaxError\u001b[0m\u001b[1;31m:\u001b[0m invalid syntax\n"
     ]
    }
   ],
   "source": [
    "A0 = np.linalg.inv(np.cov(np.transpose(reduced_training_images)))\n",
    "optimization_learning = minimize(loss_function_training, A0, method='CG', options={'maxiter': 1, 'disp' : b True})"
   ]
  },
  {
   "cell_type": "code",
   "execution_count": null,
   "metadata": {},
   "outputs": [],
   "source": [
    "print(optimization_learning.A)"
   ]
  },
  {
   "cell_type": "code",
   "execution_count": null,
   "metadata": {},
   "outputs": [],
   "source": []
  },
  {
   "cell_type": "markdown",
   "metadata": {},
   "source": [
    "## Kernel"
   ]
  },
  {
   "cell_type": "code",
   "execution_count": 170,
   "metadata": {},
   "outputs": [
    {
     "name": "stdout",
     "output_type": "stream",
     "text": [
      "(5328, 1000) (1400, 1000)\n"
     ]
    }
   ],
   "source": [
    "#from sklearn.metrics.pairwise import polynomial_kernel, rbf_kernel, pairwise_distances, sigmoid_kernel\n",
    "#print(reduced_query_images.shape, reduced_gallery_images.shape)\n",
    "#distances = pairwise_distances(X=reduced_query_images ,Y=reduced_gallery_images)\n",
    "#dist_query = rbf_kernel(X=query_images ,Y=gallery_images, gamma=0.0001)\n",
    "#dist_gallery = rbf_kernel(X=gallery_images ,Y=gallery_images, gamma=0.0001)\n",
    "#distances = np.linalg.multi_dot([reduced_query_images, S, reduced_gallery_images.T])\n",
    "#print(dist_query.shape)\n",
    "\n",
    "from sklearn.decomposition import KernelPCA\n",
    "kpca = KernelPCA(n_components=1000, kernel='poly', degree=2, n_jobs=-1)\n",
    "kpca.fit(gallery_images)\n",
    "new_gallery_images = kpca.transform(gallery_images)\n",
    "new_query_images = kpca.transform(query_images)\n",
    "print(new_gallery_images.shape, new_query_images.shape)"
   ]
  },
  {
   "cell_type": "code",
   "execution_count": 160,
   "metadata": {},
   "outputs": [],
   "source": [
    "def get_accuracy_kernel(k, N, new_query_images, new_gallery_images):\n",
    "    list_of_truths = []\n",
    "    AP_vals = []\n",
    "    start = time.time() #time tracking - start time of process\n",
    "    neigh = NearestNeighbors(n_neighbors=N, n_jobs=-1)\n",
    "    neigh.fit(new_gallery_images)   #new_gallery_labels)\n",
    "    for index, query_index in enumerate(query_indices.tolist()):\n",
    "        if (index % 100 == 0):\n",
    "            print(\"Index: \", index, \" & time taken: \", time.time() - start)\n",
    "        N_distances, N_indices = neigh.kneighbors(new_query_images[index].reshape(1, len(new_query_images[0, :])))\n",
    "        #print(N_distances.shape)\n",
    "        #print('hi')\n",
    "        #print(N_indices)\n",
    "        forLoopStart = time.time()\n",
    "        topN_gallery_indices = (gallery_indices[N_indices[0]]).tolist()\n",
    "        reduced_topN_labels = remove_indices(topN_gallery_indices, query_index)\n",
    "        #print(len(reduced_topN_labels))\n",
    "        #print(len(reduced_topN_labels))\n",
    "        #print(len(topN_gallery_indices), len(reduced_topN_labels))\n",
    "        #print((query_labels[query_index][0], reduced_topN_labels[:k]))\n",
    "        if query_labels[index][0] in reduced_topN_labels[:k]:\n",
    "            list_of_truths.append(True)\n",
    "        else:\n",
    "            list_of_truths.append(False)\n",
    "        AP = calcAP(query_labels[index][0], reduced_topN_labels[:k])\n",
    "        AP_vals.append(AP)\n",
    "    #over-all accuracy  \n",
    "    acc = sum(list_of_truths)/len(list_of_truths)\n",
    "    #print(acc)\n",
    "    return acc, np.mean(AP_vals)"
   ]
  },
  {
   "cell_type": "code",
   "execution_count": 171,
   "metadata": {},
   "outputs": [
    {
     "name": "stdout",
     "output_type": "stream",
     "text": [
      "For rank  1 : \n",
      "Index:  0  & time taken:  0.2737910747528076\n"
     ]
    },
    {
     "name": "stderr",
     "output_type": "stream",
     "text": [
      "C:\\ProgramData\\Anaconda3\\lib\\site-packages\\ipykernel_launcher.py:12: RuntimeWarning: invalid value encountered in long_scalars\n",
      "  if sys.path[0] == '':\n"
     ]
    },
    {
     "name": "stdout",
     "output_type": "stream",
     "text": [
      "Index:  100  & time taken:  10.933165073394775\n",
      "Index:  200  & time taken:  21.728415489196777\n",
      "Index:  300  & time taken:  32.31303071975708\n",
      "Index:  400  & time taken:  42.95745491981506\n",
      "Index:  500  & time taken:  53.55864500999451\n",
      "Index:  600  & time taken:  64.01764059066772\n",
      "Index:  700  & time taken:  74.62869477272034\n",
      "Index:  800  & time taken:  85.3266966342926\n",
      "Index:  900  & time taken:  95.85717511177063\n",
      "Index:  1000  & time taken:  106.35498666763306\n",
      "Index:  1100  & time taken:  116.9298152923584\n",
      "Index:  1200  & time taken:  127.59149217605591\n",
      "Index:  1300  & time taken:  138.15009713172913\n",
      "(1, 0.4707142857142857, 0.4707142857142857)\n",
      "For rank  5 : \n",
      "Index:  0  & time taken:  0.3149576187133789\n",
      "Index:  100  & time taken:  10.982279300689697\n",
      "Index:  200  & time taken:  21.7175395488739\n",
      "Index:  300  & time taken:  32.51641774177551\n",
      "Index:  400  & time taken:  43.23935317993164\n",
      "Index:  500  & time taken:  54.01167631149292\n",
      "Index:  600  & time taken:  64.49322628974915\n",
      "Index:  700  & time taken:  74.94112968444824\n",
      "Index:  800  & time taken:  85.58879566192627\n",
      "Index:  900  & time taken:  96.3696722984314\n",
      "Index:  1000  & time taken:  107.17802476882935\n",
      "Index:  1100  & time taken:  117.99870228767395\n",
      "Index:  1200  & time taken:  128.80962133407593\n",
      "Index:  1300  & time taken:  139.6572322845459\n",
      "(5, 0.6728571428571428, 0.5289004329004329)\n",
      "For rank  10 : \n",
      "Index:  0  & time taken:  0.2822225093841553\n",
      "Index:  100  & time taken:  11.218676328659058\n",
      "Index:  200  & time taken:  21.919296264648438\n",
      "Index:  300  & time taken:  32.69498133659363\n",
      "Index:  400  & time taken:  43.46003198623657\n",
      "Index:  500  & time taken:  54.2823851108551\n",
      "Index:  600  & time taken:  65.03079271316528\n",
      "Index:  700  & time taken:  75.7310209274292\n",
      "Index:  800  & time taken:  86.28557300567627\n",
      "Index:  900  & time taken:  96.99698996543884\n",
      "Index:  1000  & time taken:  107.65678572654724\n",
      "Index:  1100  & time taken:  118.24628448486328\n",
      "Index:  1200  & time taken:  128.91268682479858\n",
      "Index:  1300  & time taken:  139.48581457138062\n",
      "(10, 0.7514285714285714, 0.515480674087817)\n"
     ]
    }
   ],
   "source": [
    "N=100\n",
    "k = [1, 5, 10]\n",
    "results = []\n",
    "for k_val in k: \n",
    "    print(\"For rank \", k_val, \": \")\n",
    "    accuracy, mAP = get_accuracy_kernel(k_val, N, new_query_images, new_gallery_images)\n",
    "    tup = (k_val, accuracy, mAP)\n",
    "    results.append(tup)\n",
    "    print(tup)"
   ]
  },
  {
   "cell_type": "markdown",
   "metadata": {},
   "source": [
    "### Kernel Results\n",
    "\n",
    "#### rbf (gaussian) with gamma=0.0001\n",
    "(1, 0.47214285714285714, 0.47214285714285714)\n",
    "(5, 0.675, 0.5304707792207792)\n",
    "(10, 0.7485714285714286, 0.5183716501752216)"
   ]
  },
  {
   "cell_type": "code",
   "execution_count": null,
   "metadata": {},
   "outputs": [],
   "source": []
  }
 ],
 "metadata": {
  "kernelspec": {
   "display_name": "Python 3",
   "language": "python",
   "name": "python3"
  },
  "language_info": {
   "codemirror_mode": {
    "name": "ipython",
    "version": 3
   },
   "file_extension": ".py",
   "mimetype": "text/x-python",
   "name": "python",
   "nbconvert_exporter": "python",
   "pygments_lexer": "ipython3",
   "version": "3.6.4"
  }
 },
 "nbformat": 4,
 "nbformat_minor": 2
}
